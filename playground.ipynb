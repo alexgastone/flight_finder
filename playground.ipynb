{
 "cells": [
  {
   "cell_type": "code",
   "execution_count": 1,
   "metadata": {
    "ExecuteTime": {
     "end_time": "2021-01-19T12:09:28.079759Z",
     "start_time": "2021-01-19T12:09:27.956039Z"
    }
   },
   "outputs": [],
   "source": [
    "import requests, json"
   ]
  },
  {
   "cell_type": "code",
   "execution_count": 2,
   "metadata": {
    "ExecuteTime": {
     "end_time": "2021-01-19T12:09:45.354283Z",
     "start_time": "2021-01-19T12:09:45.342379Z"
    }
   },
   "outputs": [],
   "source": [
    "# Use cached results from previous user searches (Skyscanner API on RapidAPI)\n",
    "\n",
    "headers = {\n",
    "    'x-rapidapi-host': \"skyscanner-skyscanner-flight-search-v1.p.rapidapi.com\",\n",
    "    'x-rapidapi-key': \"a25c140655mshcc3de02bc48e78fp1d8ae5jsn716b89dc608a\"\n",
    "    }"
   ]
  },
  {
   "cell_type": "markdown",
   "metadata": {},
   "source": [
    "## Start with one-way tickets and find cheapest option"
   ]
  },
  {
   "cell_type": "markdown",
   "metadata": {},
   "source": [
    "* Two origins: Madrid and Zurich \n",
    "* Three city destinations (consider all airports in the three cities): London, Paris, Rome\n",
    "* date: single date, & one-way\n",
    "\n",
    "**goal**: chose cheapest city to fly to from Madrid and Zurich, i.e. city that will result in min total cost"
   ]
  },
  {
   "cell_type": "markdown",
   "metadata": {},
   "source": [
    "note TODO: create a database with city and/or airport names and corresponding IDs for skyscanner so can use user queries (in the form of city for ex) and translate it to ID keys\n",
    "\n",
    "note TODO: make sure all future origins also takes into account multiple airports, in this case our two origin airports only have one, whereas Paris has a possibility of 4."
   ]
  },
  {
   "cell_type": "code",
   "execution_count": 59,
   "metadata": {
    "ExecuteTime": {
     "end_time": "2021-01-19T13:46:45.556248Z",
     "start_time": "2021-01-19T13:46:45.535726Z"
    }
   },
   "outputs": [],
   "source": [
    "# from Spain (ES-sky) - MAD (MAD-sky) & Switzerland (CH-sky) - Zurich (ZURI-sky)\n",
    "origin_list = [\"MAD-sky\", \"ZURI-sky\"]\n",
    "\n",
    "# where we are doing search from \n",
    "origin_country = \"ES\"\n",
    "\n",
    "# list of possible destinations \n",
    "destination_list = [\"LOND-sky\", \"PARI-sky\", \"ROME-sky\"]\n",
    "\n",
    "currency = \"EUR\"\n",
    "locale = \"en-US\"\n",
    "date = \"2021-02-01\" #yyyy-mm-dd\n",
    "\n",
    "#for origin in origin_list:\n",
    "    #print(f'For origin {origin}:')\n",
    "    #print()\n",
    "    \n",
    "    #for destination in destination_list:\n",
    "        #myurl = \"https://skyscanner-skyscanner-flight-search-v1.p.rapidapi.com/apiservices/browsequotes/v1.0/\" + originCountry + \"/\" + currency + \"/\" + locale + \"/\"  + destination + \"/\" + origin + \"/\"+ date\n",
    "        #response = requests.request(\"GET\", myurl, headers=headers)\n",
    "\n",
    "        #print(f'For destination {destination}:')\n",
    "        #print(response.text)\n",
    "        #print()\n",
    "        #print('--------')\n",
    "        #print()\n",
    "    \n",
    "    #print('########')\n",
    "    #print()"
   ]
  },
  {
   "cell_type": "code",
   "execution_count": 30,
   "metadata": {
    "ExecuteTime": {
     "end_time": "2021-01-19T12:55:39.763040Z",
     "start_time": "2021-01-19T12:55:36.378225Z"
    }
   },
   "outputs": [
    {
     "name": "stdout",
     "output_type": "stream",
     "text": [
      "-----------\n",
      "Journey:  Madrid  --> London Stansted\n",
      "Price: 31 EUR\n",
      "-----------\n",
      "Journey:  Madrid  --> London Gatwick\n",
      "Price: 31 EUR\n",
      "-----------\n",
      "Journey:  Madrid  --> Paris Orly\n",
      "Price: 36 EUR\n",
      "-----------\n",
      "Journey:  Madrid  --> Rome Ciampino\n",
      "Price: 22 EUR\n",
      "-----------\n",
      "Journey:  Zurich  --> London Heathrow\n",
      "Price: 64 EUR\n",
      "-----------\n",
      "Journey:  Zurich  --> London Heathrow\n",
      "Price: 101 EUR\n",
      "-----------\n",
      "Journey:  Zurich  --> Paris Orly\n",
      "Price: 74 EUR\n",
      "-----------\n",
      "Journey:  Zurich  --> Paris Charles de Gaulle\n",
      "Price: 105 EUR\n",
      "-----------\n",
      "Journey:  Zurich  --> Rome Fiumicino\n",
      "Price: 67 EUR\n",
      "-----------\n",
      "Journey:  Zurich  --> Rome Fiumicino\n",
      "Price: 81 EUR\n"
     ]
    }
   ],
   "source": [
    "# match airport IDs to names of origin and destination\n",
    "# add to options list with \n",
    "\n",
    "airports = {}\n",
    "options = []\n",
    "url = \"https://skyscanner-skyscanner-flight-search-v1.p.rapidapi.com/apiservices/browsequotes/v1.0/\"\n",
    "\n",
    "for origin in origin_list:\n",
    "    for destination in destination_list:\n",
    "        myurl = url + origin_country + \"/\" + currency + \"/\" + locale + \"/\"  + origin + \"/\" + destination + \"/\"+ date\n",
    "        response = requests.request(\"GET\", myurl, headers=headers)\n",
    "        temp = json.loads(response.text)\n",
    "        \n",
    "        if(\"Quotes\" in temp):\n",
    "            for places in temp[\"Places\"]:\n",
    "                airports[places[\"PlaceId\"]] = places[\"Name\"] \n",
    "                \n",
    "            for quotes in temp[\"Quotes\"]:\n",
    "                print(\"-----------\")\n",
    "                ori = quotes[\"OutboundLeg\"][\"OriginId\"]\n",
    "                dest = quotes[\"OutboundLeg\"][\"DestinationId\"]\n",
    "                price = quotes[\"MinPrice\"]\n",
    "\n",
    "                print(f\"Journey:  {airports[ori]}  --> {airports[dest]}\")\n",
    "                print(f\"Price: {price} EUR\")\n",
    "                \n",
    "                options.append({\"origin\": airports[ori], \"destination\": airports[dest], \"price\": price})"
   ]
  },
  {
   "cell_type": "code",
   "execution_count": 31,
   "metadata": {
    "ExecuteTime": {
     "end_time": "2021-01-19T12:55:41.264412Z",
     "start_time": "2021-01-19T12:55:41.246889Z"
    }
   },
   "outputs": [
    {
     "data": {
      "text/plain": [
       "[{'origin': 'Madrid', 'destination': 'London Stansted', 'price': 31},\n",
       " {'origin': 'Madrid', 'destination': 'London Gatwick', 'price': 31},\n",
       " {'origin': 'Madrid', 'destination': 'Paris Orly', 'price': 36},\n",
       " {'origin': 'Madrid', 'destination': 'Rome Ciampino', 'price': 22},\n",
       " {'origin': 'Zurich', 'destination': 'London Heathrow', 'price': 64},\n",
       " {'origin': 'Zurich', 'destination': 'London Heathrow', 'price': 101},\n",
       " {'origin': 'Zurich', 'destination': 'Paris Orly', 'price': 74},\n",
       " {'origin': 'Zurich', 'destination': 'Paris Charles de Gaulle', 'price': 105},\n",
       " {'origin': 'Zurich', 'destination': 'Rome Fiumicino', 'price': 67},\n",
       " {'origin': 'Zurich', 'destination': 'Rome Fiumicino', 'price': 81}]"
      ]
     },
     "execution_count": 31,
     "metadata": {},
     "output_type": "execute_result"
    }
   ],
   "source": [
    "options"
   ]
  },
  {
   "cell_type": "code",
   "execution_count": 32,
   "metadata": {
    "ExecuteTime": {
     "end_time": "2021-01-19T12:56:25.270440Z",
     "start_time": "2021-01-19T12:56:25.266805Z"
    }
   },
   "outputs": [],
   "source": [
    "# self join -> there might be a more streamlined way of doing this (w pandas? look up)\n",
    "dd_options = [options, options]"
   ]
  },
  {
   "cell_type": "code",
   "execution_count": 60,
   "metadata": {
    "ExecuteTime": {
     "end_time": "2021-01-19T14:30:08.290703Z",
     "start_time": "2021-01-19T14:30:08.267347Z"
    }
   },
   "outputs": [
    {
     "data": {
      "text/plain": [
       "['Paris', 'Charles de Gaulle']"
      ]
     },
     "execution_count": 60,
     "metadata": {},
     "output_type": "execute_result"
    }
   ],
   "source": [
    "st = \"Paris Charles de Gaulle\"\n",
    "st.split(\" \", 1)"
   ]
  },
  {
   "cell_type": "code",
   "execution_count": 76,
   "metadata": {
    "ExecuteTime": {
     "end_time": "2021-01-19T20:57:55.905808Z",
     "start_time": "2021-01-19T20:57:55.870673Z"
    }
   },
   "outputs": [
    {
     "name": "stdout",
     "output_type": "stream",
     "text": [
      "Common destination:\n",
      "Journey: Madrid -> London Stansted\n",
      "Journey: Zurich -> London Heathrow\n",
      "Total price: 95\n",
      "-----------\n",
      "Common destination:\n",
      "Journey: Madrid -> London Stansted\n",
      "Journey: Zurich -> London Heathrow\n",
      "Total price: 132\n",
      "-----------\n",
      "Common destination:\n",
      "Journey: Madrid -> London Gatwick\n",
      "Journey: Zurich -> London Heathrow\n",
      "Total price: 95\n",
      "-----------\n",
      "Common destination:\n",
      "Journey: Madrid -> London Gatwick\n",
      "Journey: Zurich -> London Heathrow\n",
      "Total price: 132\n",
      "-----------\n",
      "Common destination:\n",
      "Journey: Madrid -> Paris Orly\n",
      "Journey: Zurich -> Paris Orly\n",
      "Total price: 110\n",
      "-----------\n",
      "Common destination:\n",
      "Journey: Madrid -> Paris Orly\n",
      "Journey: Zurich -> Paris Charles de Gaulle\n",
      "Total price: 141\n",
      "-----------\n",
      "Common destination:\n",
      "Journey: Madrid -> Rome Ciampino\n",
      "Journey: Zurich -> Rome Fiumicino\n",
      "Total price: 89\n",
      "-----------\n",
      "Common destination:\n",
      "Journey: Madrid -> Rome Ciampino\n",
      "Journey: Zurich -> Rome Fiumicino\n",
      "Total price: 103\n",
      "-----------\n"
     ]
    }
   ],
   "source": [
    "# Find common destination (city-wise) and calculate total price\n",
    "price = []\n",
    "dest_1_list = []\n",
    "dest_2_list = []\n",
    "\n",
    "for option_1 in dd_options[0]:\n",
    "    \n",
    "    #to avoid repeats, just read the first of the two origins\n",
    "    if option_1[\"origin\"] == \"Madrid\":\n",
    "        \n",
    "        for option_2 in dd_options[1]:\n",
    "            # parse destination to get city (ex London) so that compare common cities, not just common airports\n",
    "            city_1, airport_1 = option_1[\"destination\"].split(\" \", 1)\n",
    "            city_2, airport_2 = option_2[\"destination\"].split(\" \", 1)\n",
    "\n",
    "            if (option_1[\"origin\"] != option_2[\"origin\"]) & (city_1 == city_2) :\n",
    "\n",
    "                ori_1 = option_1[\"origin\"]\n",
    "                ori_2 = option_2[\"origin\"]\n",
    "                dest_1 = option_1[\"destination\"] \n",
    "                dest_2 = option_2[\"destination\"]\n",
    "\n",
    "                sum_price = option_1[\"price\"] + option_2[\"price\"]\n",
    "                price.append(sum_price)\n",
    "                dest_1_list.append(dest_1)\n",
    "                dest_2_list.append(dest_2)\n",
    "\n",
    "                print(f\"Common destination:\")\n",
    "                print(f\"Journey: {ori_1} -> {dest_1}\")\n",
    "                print(f\"Journey: {ori_2} -> {dest_2}\")\n",
    "                print(f\"Total price: {sum_price}\")\n",
    "                print(\"-----------\")\n"
   ]
  },
  {
   "cell_type": "code",
   "execution_count": 104,
   "metadata": {
    "ExecuteTime": {
     "end_time": "2021-01-19T23:29:27.318956Z",
     "start_time": "2021-01-19T23:29:27.273846Z"
    }
   },
   "outputs": [],
   "source": [
    "# find cheapest destination (city-wise)\n",
    "city_price = {}\n",
    "airport_1_dict = {}\n",
    "airport_2_dict = {}\n",
    "\n",
    "for i, (d1, d2) in enumerate(zip(dest_1_list, dest_2_list)):\n",
    "    # from mad\n",
    "    city_1, airport_1 = d1.split(\" \", 1)\n",
    "    \n",
    "    # from zuri\n",
    "    city_2, airport_2 = d2.split(\" \", 1)\n",
    "    \n",
    "    # if two destination cities are the same, then add price to corresponding dict entry in city_price\n",
    "    if city_1 == city_2:\n",
    "        if city_1 not in city_price:\n",
    "            city_price[city_1] = [price[i]]\n",
    "        else:\n",
    "            city_price[city_1].append(price[i])  \n",
    "            \n",
    "        if city_1 not in airport_1_dict:\n",
    "            airport_1_dict[city_1] = [airport_1]\n",
    "        else:\n",
    "            airport_1_dict[city_1].append(airport_1) \n",
    "\n",
    "        if city_2 not in airport_2_dict:\n",
    "            airport_2_dict[city_2] = [airport_2]\n",
    "        else:\n",
    "            airport_2_dict[city_2].append(airport_2) "
   ]
  },
  {
   "cell_type": "code",
   "execution_count": 92,
   "metadata": {
    "ExecuteTime": {
     "end_time": "2021-01-19T23:08:15.267677Z",
     "start_time": "2021-01-19T23:08:15.261686Z"
    }
   },
   "outputs": [
    {
     "data": {
      "text/plain": [
       "{'London': [95, 132, 95, 132], 'Paris': [110, 141], 'Rome': [89, 103]}"
      ]
     },
     "execution_count": 92,
     "metadata": {},
     "output_type": "execute_result"
    }
   ],
   "source": [
    "city_price"
   ]
  },
  {
   "cell_type": "code",
   "execution_count": 105,
   "metadata": {
    "ExecuteTime": {
     "end_time": "2021-01-19T23:29:35.714380Z",
     "start_time": "2021-01-19T23:29:35.700273Z"
    }
   },
   "outputs": [
    {
     "data": {
      "text/plain": [
       "{'London': ['Stansted', 'Stansted', 'Gatwick', 'Gatwick'],\n",
       " 'Paris': ['Orly', 'Orly'],\n",
       " 'Rome': ['Ciampino', 'Ciampino']}"
      ]
     },
     "execution_count": 105,
     "metadata": {},
     "output_type": "execute_result"
    }
   ],
   "source": [
    "airport_1_dict"
   ]
  },
  {
   "cell_type": "code",
   "execution_count": 106,
   "metadata": {
    "ExecuteTime": {
     "end_time": "2021-01-19T23:29:49.006780Z",
     "start_time": "2021-01-19T23:29:48.998051Z"
    }
   },
   "outputs": [
    {
     "data": {
      "text/plain": [
       "{'London': ['Heathrow', 'Heathrow', 'Heathrow', 'Heathrow'],\n",
       " 'Paris': ['Orly', 'Charles de Gaulle'],\n",
       " 'Rome': ['Fiumicino', 'Fiumicino']}"
      ]
     },
     "execution_count": 106,
     "metadata": {},
     "output_type": "execute_result"
    }
   ],
   "source": [
    "airport_2_dict"
   ]
  },
  {
   "cell_type": "code",
   "execution_count": 109,
   "metadata": {
    "ExecuteTime": {
     "end_time": "2021-01-19T23:34:22.785692Z",
     "start_time": "2021-01-19T23:34:22.778150Z"
    }
   },
   "outputs": [],
   "source": [
    "cheapest_city_price = {}\n",
    "\n",
    "for city in city_price:\n",
    "    i = city_price[city].index(min(city_price[city]))\n",
    "    cheapest_city_price[city] = min(city_price[city])\n",
    "    cheapest_a1 = airport_1_dict[city][i]\n",
    "    cheapest_a2 = airport_2_dict[city][i]"
   ]
  },
  {
   "cell_type": "code",
   "execution_count": 95,
   "metadata": {
    "ExecuteTime": {
     "end_time": "2021-01-19T23:11:46.771756Z",
     "start_time": "2021-01-19T23:11:46.765458Z"
    }
   },
   "outputs": [
    {
     "data": {
      "text/plain": [
       "{'London': 95, 'Paris': 110, 'Rome': 89}"
      ]
     },
     "execution_count": 95,
     "metadata": {},
     "output_type": "execute_result"
    }
   ],
   "source": [
    "cheapest_city_price"
   ]
  },
  {
   "cell_type": "code",
   "execution_count": 110,
   "metadata": {
    "ExecuteTime": {
     "end_time": "2021-01-19T23:34:31.750347Z",
     "start_time": "2021-01-19T23:34:31.743368Z"
    }
   },
   "outputs": [
    {
     "data": {
      "text/plain": [
       "'Ciampino'"
      ]
     },
     "execution_count": 110,
     "metadata": {},
     "output_type": "execute_result"
    }
   ],
   "source": [
    "cheapest_a1 "
   ]
  },
  {
   "cell_type": "code",
   "execution_count": 111,
   "metadata": {
    "ExecuteTime": {
     "end_time": "2021-01-19T23:34:38.988105Z",
     "start_time": "2021-01-19T23:34:38.955804Z"
    }
   },
   "outputs": [
    {
     "data": {
      "text/plain": [
       "'Fiumicino'"
      ]
     },
     "execution_count": 111,
     "metadata": {},
     "output_type": "execute_result"
    }
   ],
   "source": [
    "cheapest_a2"
   ]
  },
  {
   "cell_type": "code",
   "execution_count": 113,
   "metadata": {
    "ExecuteTime": {
     "end_time": "2021-01-19T23:36:24.262335Z",
     "start_time": "2021-01-19T23:36:24.251141Z"
    }
   },
   "outputs": [
    {
     "name": "stdout",
     "output_type": "stream",
     "text": [
      "Cheapest destination:\n",
      "------\n",
      "Journey: Madrid -> Rome, Airport: Ciampino\n",
      "Journey: Zurich -> Rome, Airport: Fiumicino\n",
      "Total price: 89 EUR\n",
      "------\n"
     ]
    }
   ],
   "source": [
    "# Find cheapest destination out of the 3 city options \n",
    "\n",
    "cheapest_dest = (min(cheapest_city_price, key=cheapest_city_price.get))\n",
    "cheapest_price = min(cheapest_city_price.values())\n",
    "\n",
    "print(f\"Cheapest destination:\")\n",
    "print('------')\n",
    "print(f\"Journey: Madrid -> {cheapest_dest}, Airport: {cheapest_a1}\")\n",
    "print(f\"Journey: Zurich -> {cheapest_dest}, Airport: {cheapest_a2}\")\n",
    "print(f\"Total price: {cheapest_price} EUR\")\n",
    "print('------')\n"
   ]
  },
  {
   "cell_type": "markdown",
   "metadata": {},
   "source": [
    "additionally: recover the breakdown of price, i.e. Madrid-Ciampino and Zurich-Fiumicino"
   ]
  },
  {
   "cell_type": "code",
   "execution_count": null,
   "metadata": {},
   "outputs": [],
   "source": []
  }
 ],
 "metadata": {
  "kernelspec": {
   "display_name": "Python 3",
   "language": "python",
   "name": "python3"
  },
  "language_info": {
   "codemirror_mode": {
    "name": "ipython",
    "version": 3
   },
   "file_extension": ".py",
   "mimetype": "text/x-python",
   "name": "python",
   "nbconvert_exporter": "python",
   "pygments_lexer": "ipython3",
   "version": "3.7.7"
  },
  "toc": {
   "base_numbering": 1,
   "nav_menu": {},
   "number_sections": true,
   "sideBar": true,
   "skip_h1_title": false,
   "title_cell": "Table of Contents",
   "title_sidebar": "Contents",
   "toc_cell": false,
   "toc_position": {},
   "toc_section_display": true,
   "toc_window_display": false
  },
  "varInspector": {
   "cols": {
    "lenName": 16,
    "lenType": 16,
    "lenVar": 40
   },
   "kernels_config": {
    "python": {
     "delete_cmd_postfix": "",
     "delete_cmd_prefix": "del ",
     "library": "var_list.py",
     "varRefreshCmd": "print(var_dic_list())"
    },
    "r": {
     "delete_cmd_postfix": ") ",
     "delete_cmd_prefix": "rm(",
     "library": "var_list.r",
     "varRefreshCmd": "cat(var_dic_list()) "
    }
   },
   "types_to_exclude": [
    "module",
    "function",
    "builtin_function_or_method",
    "instance",
    "_Feature"
   ],
   "window_display": false
  }
 },
 "nbformat": 4,
 "nbformat_minor": 4
}
