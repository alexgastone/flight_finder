{
 "cells": [
  {
   "cell_type": "code",
   "execution_count": 1,
   "metadata": {
    "ExecuteTime": {
     "end_time": "2021-01-19T12:09:28.079759Z",
     "start_time": "2021-01-19T12:09:27.956039Z"
    }
   },
   "outputs": [],
   "source": [
    "import requests, json"
   ]
  },
  {
   "cell_type": "code",
   "execution_count": 2,
   "metadata": {
    "ExecuteTime": {
     "end_time": "2021-01-19T12:09:45.354283Z",
     "start_time": "2021-01-19T12:09:45.342379Z"
    }
   },
   "outputs": [],
   "source": [
    "# Use cached results from previous user searches (Skyscanner API on RapidAPI)\n",
    "\n",
    "headers = {\n",
    "    'x-rapidapi-host': \"skyscanner-skyscanner-flight-search-v1.p.rapidapi.com\",\n",
    "    'x-rapidapi-key': \"a25c140655mshcc3de02bc48e78fp1d8ae5jsn716b89dc608a\"\n",
    "    }"
   ]
  },
  {
   "cell_type": "markdown",
   "metadata": {},
   "source": [
    "Start with one-way tickets and find cheapest option"
   ]
  },
  {
   "cell_type": "code",
   "execution_count": 59,
   "metadata": {
    "ExecuteTime": {
     "end_time": "2021-01-19T13:46:45.556248Z",
     "start_time": "2021-01-19T13:46:45.535726Z"
    }
   },
   "outputs": [],
   "source": [
    "# from Spain (ES-sky) - MAD (MAD-sky) & Switzerland (CH-sky) - Zurich (ZURI-sky)\n",
    "origin_list = [\"MAD-sky\", \"ZURI-sky\"]\n",
    "\n",
    "# where we are doing search from \n",
    "origin_country = \"ES\"\n",
    "\n",
    "# list of possible destinations \n",
    "destination_list = [\"LOND-sky\", \"PARI-sky\", \"ROME-sky\"]\n",
    "\n",
    "currency = \"EUR\"\n",
    "locale = \"en-US\"\n",
    "date = \"2021-02-01\" #yyyy-mm-dd\n",
    "maxbudget = 200\n",
    "\n",
    "#for origin in origin_list:\n",
    "    #print(f'For origin {origin}:')\n",
    "    #print()\n",
    "    \n",
    "    #for destination in destination_list:\n",
    "        #myurl = \"https://skyscanner-skyscanner-flight-search-v1.p.rapidapi.com/apiservices/browsequotes/v1.0/\" + originCountry + \"/\" + currency + \"/\" + locale + \"/\"  + destination + \"/\" + origin + \"/\"+ date\n",
    "        #response = requests.request(\"GET\", myurl, headers=headers)\n",
    "\n",
    "        #print(f'For destination {destination}:')\n",
    "        #print(response.text)\n",
    "        #print()\n",
    "        #print('--------')\n",
    "        #print()\n",
    "    \n",
    "    #print('########')\n",
    "    #print()"
   ]
  },
  {
   "cell_type": "code",
   "execution_count": 30,
   "metadata": {
    "ExecuteTime": {
     "end_time": "2021-01-19T12:55:39.763040Z",
     "start_time": "2021-01-19T12:55:36.378225Z"
    }
   },
   "outputs": [
    {
     "name": "stdout",
     "output_type": "stream",
     "text": [
      "-----------\n",
      "Journey:  Madrid  --> London Stansted\n",
      "Price: 31 EUR\n",
      "-----------\n",
      "Journey:  Madrid  --> London Gatwick\n",
      "Price: 31 EUR\n",
      "-----------\n",
      "Journey:  Madrid  --> Paris Orly\n",
      "Price: 36 EUR\n",
      "-----------\n",
      "Journey:  Madrid  --> Rome Ciampino\n",
      "Price: 22 EUR\n",
      "-----------\n",
      "Journey:  Zurich  --> London Heathrow\n",
      "Price: 64 EUR\n",
      "-----------\n",
      "Journey:  Zurich  --> London Heathrow\n",
      "Price: 101 EUR\n",
      "-----------\n",
      "Journey:  Zurich  --> Paris Orly\n",
      "Price: 74 EUR\n",
      "-----------\n",
      "Journey:  Zurich  --> Paris Charles de Gaulle\n",
      "Price: 105 EUR\n",
      "-----------\n",
      "Journey:  Zurich  --> Rome Fiumicino\n",
      "Price: 67 EUR\n",
      "-----------\n",
      "Journey:  Zurich  --> Rome Fiumicino\n",
      "Price: 81 EUR\n"
     ]
    }
   ],
   "source": [
    "# match airport IDs to names of origin and destination\n",
    "# add to options list\n",
    "\n",
    "airports = {}\n",
    "options = []\n",
    "\n",
    "for origin in origin_list:\n",
    "    for destination in destination_list:\n",
    "        myurl = \"https://skyscanner-skyscanner-flight-search-v1.p.rapidapi.com/apiservices/browsequotes/v1.0/\" + originCountry + \"/\" + currency + \"/\" + locale + \"/\"  + origin + \"/\" + destination + \"/\"+ date\n",
    "        response = requests.request(\"GET\", myurl, headers=headers)\n",
    "        temp = json.loads(response.text)\n",
    "        \n",
    "        if(\"Quotes\" in temp):\n",
    "            for places in temp[\"Places\"]:\n",
    "                airports[places[\"PlaceId\"]] = places[\"Name\"] \n",
    "                \n",
    "            for quotes in temp[\"Quotes\"]:\n",
    "                print(\"-----------\")\n",
    "                ori = quotes[\"OutboundLeg\"][\"OriginId\"]\n",
    "                dest = quotes[\"OutboundLeg\"][\"DestinationId\"]\n",
    "                price = quotes[\"MinPrice\"]\n",
    "\n",
    "                print(f\"Journey:  {airports[ori]}  --> {airports[dest]}\")\n",
    "                print(f\"Price: {price} EUR\")\n",
    "                \n",
    "                options.append({\"origin\": airports[ori], \"destination\": airports[dest], \"price\": price})"
   ]
  },
  {
   "cell_type": "code",
   "execution_count": 31,
   "metadata": {
    "ExecuteTime": {
     "end_time": "2021-01-19T12:55:41.264412Z",
     "start_time": "2021-01-19T12:55:41.246889Z"
    }
   },
   "outputs": [
    {
     "data": {
      "text/plain": [
       "[{'origin': 'Madrid', 'destination': 'London Stansted', 'price': 31},\n",
       " {'origin': 'Madrid', 'destination': 'London Gatwick', 'price': 31},\n",
       " {'origin': 'Madrid', 'destination': 'Paris Orly', 'price': 36},\n",
       " {'origin': 'Madrid', 'destination': 'Rome Ciampino', 'price': 22},\n",
       " {'origin': 'Zurich', 'destination': 'London Heathrow', 'price': 64},\n",
       " {'origin': 'Zurich', 'destination': 'London Heathrow', 'price': 101},\n",
       " {'origin': 'Zurich', 'destination': 'Paris Orly', 'price': 74},\n",
       " {'origin': 'Zurich', 'destination': 'Paris Charles de Gaulle', 'price': 105},\n",
       " {'origin': 'Zurich', 'destination': 'Rome Fiumicino', 'price': 67},\n",
       " {'origin': 'Zurich', 'destination': 'Rome Fiumicino', 'price': 81}]"
      ]
     },
     "execution_count": 31,
     "metadata": {},
     "output_type": "execute_result"
    }
   ],
   "source": [
    "options"
   ]
  },
  {
   "cell_type": "code",
   "execution_count": 32,
   "metadata": {
    "ExecuteTime": {
     "end_time": "2021-01-19T12:56:25.270440Z",
     "start_time": "2021-01-19T12:56:25.266805Z"
    }
   },
   "outputs": [],
   "source": [
    "dd_options = [options, options]"
   ]
  },
  {
   "cell_type": "code",
   "execution_count": 55,
   "metadata": {
    "ExecuteTime": {
     "end_time": "2021-01-19T13:22:00.839159Z",
     "start_time": "2021-01-19T13:22:00.828144Z"
    }
   },
   "outputs": [
    {
     "name": "stdout",
     "output_type": "stream",
     "text": [
      "Common destination:\n",
      "Journey: Madrid -> Paris Orly\n",
      "Journey: Zurich -> Paris Orly\n",
      "Total price: 110\n",
      "-----------\n"
     ]
    }
   ],
   "source": [
    "# Find common destination and calculate total price\n",
    "\n",
    "valid_destinations = []\n",
    "price = []\n",
    "\n",
    "for option_1 in dd_options[0]:\n",
    "    for option_2 in dd_options[1]:\n",
    "        \n",
    "        if (option_1[\"origin\"] != option_2[\"origin\"]) & (option_1[\"destination\"] == option_2[\"destination\"]) :\n",
    "            ori_1 = option_1[\"origin\"]\n",
    "            ori_2 = option_2[\"origin\"]\n",
    "            dest = option_1[\"destination\"] \n",
    "            \n",
    "            if dest not in valid_destinations:\n",
    "                sum_price = option_1[\"price\"] + option_2[\"price\"]\n",
    "                valid_destinations.append(dest)\n",
    "                price.append(sum_price)\n",
    "\n",
    "                print(f\"Common destination:\")\n",
    "                print(f\"Journey: {ori_1} -> {dest}\")\n",
    "                print(f\"Journey: {ori_2} -> {dest}\")\n",
    "                print(f\"Total price: {sum_price}\")\n",
    "                print(\"-----------\")\n"
   ]
  },
  {
   "cell_type": "code",
   "execution_count": 58,
   "metadata": {
    "ExecuteTime": {
     "end_time": "2021-01-19T13:24:27.574930Z",
     "start_time": "2021-01-19T13:24:27.561299Z"
    }
   },
   "outputs": [
    {
     "name": "stdout",
     "output_type": "stream",
     "text": [
      "Cheapest destination:\n",
      "Journey: MAD-sky -> Paris Orly\n",
      "Journey: ZURI-sky -> Paris Orly\n",
      "Total price: 110\n"
     ]
    }
   ],
   "source": [
    "# Find cheapest destination\n",
    "\n",
    "cheapest = valid_destinations[price.index(min(price))]\n",
    "print(f\"Cheapest destination:\")\n",
    "print(f\"Journey: {origin_list[0]} -> {cheapest}\")\n",
    "print(f\"Journey: {origin_list[1]} -> {cheapest}\")\n",
    "print(f\"Total price: {min(price)}\")"
   ]
  },
  {
   "cell_type": "code",
   "execution_count": null,
   "metadata": {},
   "outputs": [],
   "source": []
  }
 ],
 "metadata": {
  "kernelspec": {
   "display_name": "Python 3",
   "language": "python",
   "name": "python3"
  },
  "language_info": {
   "codemirror_mode": {
    "name": "ipython",
    "version": 3
   },
   "file_extension": ".py",
   "mimetype": "text/x-python",
   "name": "python",
   "nbconvert_exporter": "python",
   "pygments_lexer": "ipython3",
   "version": "3.7.7"
  },
  "toc": {
   "base_numbering": 1,
   "nav_menu": {},
   "number_sections": true,
   "sideBar": true,
   "skip_h1_title": false,
   "title_cell": "Table of Contents",
   "title_sidebar": "Contents",
   "toc_cell": false,
   "toc_position": {},
   "toc_section_display": true,
   "toc_window_display": false
  },
  "varInspector": {
   "cols": {
    "lenName": 16,
    "lenType": 16,
    "lenVar": 40
   },
   "kernels_config": {
    "python": {
     "delete_cmd_postfix": "",
     "delete_cmd_prefix": "del ",
     "library": "var_list.py",
     "varRefreshCmd": "print(var_dic_list())"
    },
    "r": {
     "delete_cmd_postfix": ") ",
     "delete_cmd_prefix": "rm(",
     "library": "var_list.r",
     "varRefreshCmd": "cat(var_dic_list()) "
    }
   },
   "types_to_exclude": [
    "module",
    "function",
    "builtin_function_or_method",
    "instance",
    "_Feature"
   ],
   "window_display": false
  }
 },
 "nbformat": 4,
 "nbformat_minor": 4
}
