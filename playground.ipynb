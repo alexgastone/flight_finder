{
 "cells": [
  {
   "cell_type": "code",
   "execution_count": 1,
   "metadata": {
    "ExecuteTime": {
     "end_time": "2021-01-19T12:09:28.079759Z",
     "start_time": "2021-01-19T12:09:27.956039Z"
    }
   },
   "outputs": [],
   "source": [
    "import requests, json"
   ]
  },
  {
   "cell_type": "code",
   "execution_count": 2,
   "metadata": {
    "ExecuteTime": {
     "end_time": "2021-01-19T12:09:45.354283Z",
     "start_time": "2021-01-19T12:09:45.342379Z"
    }
   },
   "outputs": [],
   "source": [
    "# Use cached results from previous user searches (Skyscanner API on RapidAPI)\n",
    "\n",
    "headers = {\n",
    "    'x-rapidapi-host': \"skyscanner-skyscanner-flight-search-v1.p.rapidapi.com\",\n",
    "    'x-rapidapi-key': \"a25c140655mshcc3de02bc48e78fp1d8ae5jsn716b89dc608a\"\n",
    "    }"
   ]
  },
  {
   "cell_type": "markdown",
   "metadata": {},
   "source": [
    "## Start with one-way tickets and find cheapest option"
   ]
  },
  {
   "cell_type": "markdown",
   "metadata": {},
   "source": [
    "* Two origins: Madrid and Zurich \n",
    "* Three city destinations (consider all airports in the three cities): London, Paris, Rome\n",
    "* date: single date, & one-way\n",
    "\n",
    "**goal**: chose cheapest city to fly to from Madrid and Zurich, i.e. city that will result in min total cost"
   ]
  },
  {
   "cell_type": "code",
   "execution_count": 59,
   "metadata": {
    "ExecuteTime": {
     "end_time": "2021-01-19T13:46:45.556248Z",
     "start_time": "2021-01-19T13:46:45.535726Z"
    }
   },
   "outputs": [],
   "source": [
    "# from Spain (ES-sky) - MAD (MAD-sky) & Switzerland (CH-sky) - Zurich (ZURI-sky)\n",
    "origin_list = [\"MAD-sky\", \"ZURI-sky\"]\n",
    "\n",
    "# where we are doing search from \n",
    "origin_country = \"ES\"\n",
    "\n",
    "# list of possible destinations \n",
    "destination_list = [\"LOND-sky\", \"PARI-sky\", \"ROME-sky\"]\n",
    "\n",
    "currency = \"EUR\"\n",
    "locale = \"en-US\"\n",
    "date = \"2021-02-01\" #yyyy-mm-dd\n",
    "\n",
    "#for origin in origin_list:\n",
    "    #print(f'For origin {origin}:')\n",
    "    #print()\n",
    "    \n",
    "    #for destination in destination_list:\n",
    "        #myurl = \"https://skyscanner-skyscanner-flight-search-v1.p.rapidapi.com/apiservices/browsequotes/v1.0/\" + originCountry + \"/\" + currency + \"/\" + locale + \"/\"  + destination + \"/\" + origin + \"/\"+ date\n",
    "        #response = requests.request(\"GET\", myurl, headers=headers)\n",
    "\n",
    "        #print(f'For destination {destination}:')\n",
    "        #print(response.text)\n",
    "        #print()\n",
    "        #print('--------')\n",
    "        #print()\n",
    "    \n",
    "    #print('########')\n",
    "    #print()"
   ]
  },
  {
   "cell_type": "code",
   "execution_count": 131,
   "metadata": {
    "ExecuteTime": {
     "end_time": "2021-01-20T13:20:16.908972Z",
     "start_time": "2021-01-20T13:20:13.610240Z"
    }
   },
   "outputs": [
    {
     "name": "stdout",
     "output_type": "stream",
     "text": [
      "-----------\n",
      "Journey:  Madrid  --> London Gatwick\n",
      "Carrier: Air Europa\n",
      "Price: 38 EUR\n",
      "-----------\n",
      "Journey:  Madrid  --> Paris Orly\n",
      "Carrier: Iberia\n",
      "Price: 36 EUR\n",
      "-----------\n",
      "Journey:  Madrid  --> Rome Ciampino\n",
      "Carrier: Ryanair\n",
      "Price: 22 EUR\n",
      "-----------\n",
      "Journey:  Zurich  --> London Heathrow\n",
      "Carrier: Iberia\n",
      "Price: 64 EUR\n",
      "-----------\n",
      "Journey:  Zurich  --> London Heathrow\n",
      "Carrier: SWISS\n",
      "Price: 101 EUR\n",
      "-----------\n",
      "Journey:  Zurich  --> Paris Orly\n",
      "Carrier: Air Europa\n",
      "Price: 74 EUR\n",
      "-----------\n",
      "Journey:  Zurich  --> Paris Charles de Gaulle\n",
      "Carrier: SWISS\n",
      "Price: 104 EUR\n",
      "-----------\n",
      "Journey:  Zurich  --> Rome Fiumicino\n",
      "Carrier: Air Europa\n",
      "Price: 65 EUR\n",
      "-----------\n",
      "Journey:  Zurich  --> Rome Fiumicino\n",
      "Carrier: Alitalia\n",
      "Price: 81 EUR\n"
     ]
    }
   ],
   "source": [
    "# match airport IDs to names of origin and destination\n",
    "# add to options list with \n",
    "\n",
    "airports = {}\n",
    "carriers = {}\n",
    "options = []\n",
    "url = \"https://skyscanner-skyscanner-flight-search-v1.p.rapidapi.com/apiservices/browsequotes/v1.0/\"\n",
    "\n",
    "for origin in origin_list:\n",
    "    for destination in destination_list:\n",
    "        myurl = url + origin_country + \"/\" + currency + \"/\" + locale + \"/\"  + origin + \"/\" + destination + \"/\"+ date\n",
    "        response = requests.request(\"GET\", myurl, headers=headers)\n",
    "        temp = json.loads(response.text)\n",
    "        \n",
    "        if(\"Quotes\" in temp):\n",
    "            for places in temp[\"Places\"]:\n",
    "                airports[places[\"PlaceId\"]] = places[\"Name\"] \n",
    "            \n",
    "            for carrier in temp[\"Carriers\"]:\n",
    "                carriers[carrier[\"CarrierId\"]] = carrier[\"Name\"]\n",
    "                \n",
    "            for quotes in temp[\"Quotes\"]:\n",
    "                print(\"-----------\")\n",
    "                ori = quotes[\"OutboundLeg\"][\"OriginId\"]\n",
    "                dest = quotes[\"OutboundLeg\"][\"DestinationId\"]\n",
    "                carrier = quotes[\"OutboundLeg\"][\"CarrierIds\"]\n",
    "                price = quotes[\"MinPrice\"]\n",
    "\n",
    "                print(f\"Journey:  {airports[ori]}  --> {airports[dest]}\")\n",
    "                print(f\"Carrier: {carriers[carrier[0]]}\")\n",
    "                print(f\"Price: {price} EUR\")\n",
    "                \n",
    "                options.append({\"origin\": airports[ori], \"destination\": airports[dest], \"price\": price, \n",
    "                               \"carrier\": carriers[carrier[0]]})"
   ]
  },
  {
   "cell_type": "code",
   "execution_count": 132,
   "metadata": {
    "ExecuteTime": {
     "end_time": "2021-01-20T13:20:18.667634Z",
     "start_time": "2021-01-20T13:20:18.661658Z"
    }
   },
   "outputs": [
    {
     "data": {
      "text/plain": [
       "9"
      ]
     },
     "execution_count": 132,
     "metadata": {},
     "output_type": "execute_result"
    }
   ],
   "source": [
    "len(options)"
   ]
  },
  {
   "cell_type": "code",
   "execution_count": 133,
   "metadata": {
    "ExecuteTime": {
     "end_time": "2021-01-20T13:20:19.550924Z",
     "start_time": "2021-01-20T13:20:19.543865Z"
    }
   },
   "outputs": [
    {
     "data": {
      "text/plain": [
       "[{'origin': 'Madrid',\n",
       "  'destination': 'London Gatwick',\n",
       "  'price': 38,\n",
       "  'carrier': 'Air Europa'},\n",
       " {'origin': 'Madrid',\n",
       "  'destination': 'Paris Orly',\n",
       "  'price': 36,\n",
       "  'carrier': 'Iberia'},\n",
       " {'origin': 'Madrid',\n",
       "  'destination': 'Rome Ciampino',\n",
       "  'price': 22,\n",
       "  'carrier': 'Ryanair'},\n",
       " {'origin': 'Zurich',\n",
       "  'destination': 'London Heathrow',\n",
       "  'price': 64,\n",
       "  'carrier': 'Iberia'},\n",
       " {'origin': 'Zurich',\n",
       "  'destination': 'London Heathrow',\n",
       "  'price': 101,\n",
       "  'carrier': 'SWISS'},\n",
       " {'origin': 'Zurich',\n",
       "  'destination': 'Paris Orly',\n",
       "  'price': 74,\n",
       "  'carrier': 'Air Europa'},\n",
       " {'origin': 'Zurich',\n",
       "  'destination': 'Paris Charles de Gaulle',\n",
       "  'price': 104,\n",
       "  'carrier': 'SWISS'},\n",
       " {'origin': 'Zurich',\n",
       "  'destination': 'Rome Fiumicino',\n",
       "  'price': 65,\n",
       "  'carrier': 'Air Europa'},\n",
       " {'origin': 'Zurich',\n",
       "  'destination': 'Rome Fiumicino',\n",
       "  'price': 81,\n",
       "  'carrier': 'Alitalia'}]"
      ]
     },
     "execution_count": 133,
     "metadata": {},
     "output_type": "execute_result"
    }
   ],
   "source": [
    "options"
   ]
  },
  {
   "cell_type": "code",
   "execution_count": 32,
   "metadata": {
    "ExecuteTime": {
     "end_time": "2021-01-19T12:56:25.270440Z",
     "start_time": "2021-01-19T12:56:25.266805Z"
    }
   },
   "outputs": [],
   "source": [
    "# self join -> there might be a more streamlined way of doing this (w pandas? look up)\n",
    "dd_options = [options, options]"
   ]
  },
  {
   "cell_type": "code",
   "execution_count": 76,
   "metadata": {
    "ExecuteTime": {
     "end_time": "2021-01-19T20:57:55.905808Z",
     "start_time": "2021-01-19T20:57:55.870673Z"
    }
   },
   "outputs": [
    {
     "name": "stdout",
     "output_type": "stream",
     "text": [
      "Common destination:\n",
      "Journey: Madrid -> London Stansted\n",
      "Journey: Zurich -> London Heathrow\n",
      "Total price: 95\n",
      "-----------\n",
      "Common destination:\n",
      "Journey: Madrid -> London Stansted\n",
      "Journey: Zurich -> London Heathrow\n",
      "Total price: 132\n",
      "-----------\n",
      "Common destination:\n",
      "Journey: Madrid -> London Gatwick\n",
      "Journey: Zurich -> London Heathrow\n",
      "Total price: 95\n",
      "-----------\n",
      "Common destination:\n",
      "Journey: Madrid -> London Gatwick\n",
      "Journey: Zurich -> London Heathrow\n",
      "Total price: 132\n",
      "-----------\n",
      "Common destination:\n",
      "Journey: Madrid -> Paris Orly\n",
      "Journey: Zurich -> Paris Orly\n",
      "Total price: 110\n",
      "-----------\n",
      "Common destination:\n",
      "Journey: Madrid -> Paris Orly\n",
      "Journey: Zurich -> Paris Charles de Gaulle\n",
      "Total price: 141\n",
      "-----------\n",
      "Common destination:\n",
      "Journey: Madrid -> Rome Ciampino\n",
      "Journey: Zurich -> Rome Fiumicino\n",
      "Total price: 89\n",
      "-----------\n",
      "Common destination:\n",
      "Journey: Madrid -> Rome Ciampino\n",
      "Journey: Zurich -> Rome Fiumicino\n",
      "Total price: 103\n",
      "-----------\n"
     ]
    }
   ],
   "source": [
    "# Find common destination (city-wise) and calculate total price\n",
    "price = []\n",
    "dest_1_list = []\n",
    "dest_2_list = []\n",
    "\n",
    "for option_1 in dd_options[0]:\n",
    "    \n",
    "    #to avoid repeats, just read the first of the two origins\n",
    "    if option_1[\"origin\"] == \"Madrid\":\n",
    "        \n",
    "        for option_2 in dd_options[1]:\n",
    "            # parse destination to get city (ex London) so that compare common cities, not just common airports\n",
    "            city_1, airport_1 = option_1[\"destination\"].split(\" \", 1)\n",
    "            city_2, airport_2 = option_2[\"destination\"].split(\" \", 1)\n",
    "\n",
    "            if (option_1[\"origin\"] != option_2[\"origin\"]) & (city_1 == city_2) :\n",
    "\n",
    "                ori_1 = option_1[\"origin\"]\n",
    "                ori_2 = option_2[\"origin\"]\n",
    "                dest_1 = option_1[\"destination\"] \n",
    "                dest_2 = option_2[\"destination\"]\n",
    "\n",
    "                sum_price = option_1[\"price\"] + option_2[\"price\"]\n",
    "                price.append(sum_price)\n",
    "                dest_1_list.append(dest_1)\n",
    "                dest_2_list.append(dest_2)\n",
    "\n",
    "                print(f\"Common destination:\")\n",
    "                print(f\"Journey: {ori_1} -> {dest_1}\")\n",
    "                print(f\"Journey: {ori_2} -> {dest_2}\")\n",
    "                print(f\"Total price: {sum_price}\")\n",
    "                print(\"-----------\")\n"
   ]
  },
  {
   "cell_type": "code",
   "execution_count": 104,
   "metadata": {
    "ExecuteTime": {
     "end_time": "2021-01-19T23:29:27.318956Z",
     "start_time": "2021-01-19T23:29:27.273846Z"
    }
   },
   "outputs": [],
   "source": [
    "# find cheapest destination (city-wise)\n",
    "city_price = {}\n",
    "airport_1_dict = {}\n",
    "airport_2_dict = {}\n",
    "\n",
    "for i, (d1, d2) in enumerate(zip(dest_1_list, dest_2_list)):\n",
    "    # from mad\n",
    "    city_1, airport_1 = d1.split(\" \", 1)\n",
    "    \n",
    "    # from zuri\n",
    "    city_2, airport_2 = d2.split(\" \", 1)\n",
    "    \n",
    "    # if two destination cities are the same, then add price to corresponding dict entry in city_price\n",
    "    if city_1 == city_2:\n",
    "        if city_1 not in city_price:\n",
    "            city_price[city_1] = [price[i]]\n",
    "        else:\n",
    "            city_price[city_1].append(price[i])  \n",
    "            \n",
    "        if city_1 not in airport_1_dict:\n",
    "            airport_1_dict[city_1] = [airport_1]\n",
    "        else:\n",
    "            airport_1_dict[city_1].append(airport_1) \n",
    "\n",
    "        if city_2 not in airport_2_dict:\n",
    "            airport_2_dict[city_2] = [airport_2]\n",
    "        else:\n",
    "            airport_2_dict[city_2].append(airport_2) "
   ]
  },
  {
   "cell_type": "code",
   "execution_count": 92,
   "metadata": {
    "ExecuteTime": {
     "end_time": "2021-01-19T23:08:15.267677Z",
     "start_time": "2021-01-19T23:08:15.261686Z"
    }
   },
   "outputs": [
    {
     "data": {
      "text/plain": [
       "{'London': [95, 132, 95, 132], 'Paris': [110, 141], 'Rome': [89, 103]}"
      ]
     },
     "execution_count": 92,
     "metadata": {},
     "output_type": "execute_result"
    }
   ],
   "source": [
    "city_price"
   ]
  },
  {
   "cell_type": "code",
   "execution_count": 105,
   "metadata": {
    "ExecuteTime": {
     "end_time": "2021-01-19T23:29:35.714380Z",
     "start_time": "2021-01-19T23:29:35.700273Z"
    }
   },
   "outputs": [
    {
     "data": {
      "text/plain": [
       "{'London': ['Stansted', 'Stansted', 'Gatwick', 'Gatwick'],\n",
       " 'Paris': ['Orly', 'Orly'],\n",
       " 'Rome': ['Ciampino', 'Ciampino']}"
      ]
     },
     "execution_count": 105,
     "metadata": {},
     "output_type": "execute_result"
    }
   ],
   "source": [
    "airport_1_dict"
   ]
  },
  {
   "cell_type": "code",
   "execution_count": 106,
   "metadata": {
    "ExecuteTime": {
     "end_time": "2021-01-19T23:29:49.006780Z",
     "start_time": "2021-01-19T23:29:48.998051Z"
    }
   },
   "outputs": [
    {
     "data": {
      "text/plain": [
       "{'London': ['Heathrow', 'Heathrow', 'Heathrow', 'Heathrow'],\n",
       " 'Paris': ['Orly', 'Charles de Gaulle'],\n",
       " 'Rome': ['Fiumicino', 'Fiumicino']}"
      ]
     },
     "execution_count": 106,
     "metadata": {},
     "output_type": "execute_result"
    }
   ],
   "source": [
    "airport_2_dict"
   ]
  },
  {
   "cell_type": "code",
   "execution_count": 109,
   "metadata": {
    "ExecuteTime": {
     "end_time": "2021-01-19T23:34:22.785692Z",
     "start_time": "2021-01-19T23:34:22.778150Z"
    }
   },
   "outputs": [],
   "source": [
    "cheapest_city_price = {}\n",
    "\n",
    "for city in city_price:\n",
    "    i = city_price[city].index(min(city_price[city]))\n",
    "    cheapest_city_price[city] = min(city_price[city])\n",
    "    cheapest_a1 = airport_1_dict[city][i]\n",
    "    cheapest_a2 = airport_2_dict[city][i]"
   ]
  },
  {
   "cell_type": "code",
   "execution_count": 95,
   "metadata": {
    "ExecuteTime": {
     "end_time": "2021-01-19T23:11:46.771756Z",
     "start_time": "2021-01-19T23:11:46.765458Z"
    }
   },
   "outputs": [
    {
     "data": {
      "text/plain": [
       "{'London': 95, 'Paris': 110, 'Rome': 89}"
      ]
     },
     "execution_count": 95,
     "metadata": {},
     "output_type": "execute_result"
    }
   ],
   "source": [
    "cheapest_city_price"
   ]
  },
  {
   "cell_type": "code",
   "execution_count": 110,
   "metadata": {
    "ExecuteTime": {
     "end_time": "2021-01-19T23:34:31.750347Z",
     "start_time": "2021-01-19T23:34:31.743368Z"
    }
   },
   "outputs": [
    {
     "data": {
      "text/plain": [
       "'Ciampino'"
      ]
     },
     "execution_count": 110,
     "metadata": {},
     "output_type": "execute_result"
    }
   ],
   "source": [
    "cheapest_a1 "
   ]
  },
  {
   "cell_type": "code",
   "execution_count": 111,
   "metadata": {
    "ExecuteTime": {
     "end_time": "2021-01-19T23:34:38.988105Z",
     "start_time": "2021-01-19T23:34:38.955804Z"
    }
   },
   "outputs": [
    {
     "data": {
      "text/plain": [
       "'Fiumicino'"
      ]
     },
     "execution_count": 111,
     "metadata": {},
     "output_type": "execute_result"
    }
   ],
   "source": [
    "cheapest_a2"
   ]
  },
  {
   "cell_type": "code",
   "execution_count": 113,
   "metadata": {
    "ExecuteTime": {
     "end_time": "2021-01-19T23:36:24.262335Z",
     "start_time": "2021-01-19T23:36:24.251141Z"
    }
   },
   "outputs": [
    {
     "name": "stdout",
     "output_type": "stream",
     "text": [
      "Cheapest destination:\n",
      "------\n",
      "Journey: Madrid -> Rome, Airport: Ciampino\n",
      "Journey: Zurich -> Rome, Airport: Fiumicino\n",
      "Total price: 89 EUR\n",
      "------\n"
     ]
    }
   ],
   "source": [
    "# Find cheapest destination out of the 3 city options \n",
    "\n",
    "cheapest_dest = (min(cheapest_city_price, key=cheapest_city_price.get))\n",
    "cheapest_price = min(cheapest_city_price.values())\n",
    "\n",
    "print(f\"Cheapest destination:\")\n",
    "print('------')\n",
    "print(f\"Journey: Madrid -> {cheapest_dest}, Airport: {cheapest_a1}\")\n",
    "print(f\"Journey: Zurich -> {cheapest_dest}, Airport: {cheapest_a2}\")\n",
    "print(f\"Total price: {cheapest_price} EUR\")\n",
    "print('------')\n"
   ]
  },
  {
   "cell_type": "markdown",
   "metadata": {},
   "source": [
    "additionally: recover the breakdown of price, i.e. Madrid-Ciampino and Zurich-Fiumicino"
   ]
  },
  {
   "cell_type": "markdown",
   "metadata": {},
   "source": [
    "## Db for names"
   ]
  },
  {
   "cell_type": "code",
   "execution_count": 136,
   "metadata": {
    "ExecuteTime": {
     "end_time": "2021-01-20T18:55:21.391033Z",
     "start_time": "2021-01-20T18:55:21.372998Z"
    }
   },
   "outputs": [],
   "source": [
    "import pandas as pd"
   ]
  },
  {
   "cell_type": "code",
   "execution_count": 137,
   "metadata": {
    "ExecuteTime": {
     "end_time": "2021-01-20T18:55:22.022133Z",
     "start_time": "2021-01-20T18:55:21.953957Z"
    }
   },
   "outputs": [],
   "source": [
    "names = pd.read_csv('SkyscannerAPIplaces.csv', sep=',')"
   ]
  },
  {
   "cell_type": "code",
   "execution_count": 138,
   "metadata": {
    "ExecuteTime": {
     "end_time": "2021-01-20T18:55:28.521148Z",
     "start_time": "2021-01-20T18:55:28.502342Z"
    }
   },
   "outputs": [
    {
     "data": {
      "text/html": [
       "<div>\n",
       "<style scoped>\n",
       "    .dataframe tbody tr th:only-of-type {\n",
       "        vertical-align: middle;\n",
       "    }\n",
       "\n",
       "    .dataframe tbody tr th {\n",
       "        vertical-align: top;\n",
       "    }\n",
       "\n",
       "    .dataframe thead th {\n",
       "        text-align: right;\n",
       "    }\n",
       "</style>\n",
       "<table border=\"1\" class=\"dataframe\">\n",
       "  <thead>\n",
       "    <tr style=\"text-align: right;\">\n",
       "      <th></th>\n",
       "      <th>ID</th>\n",
       "      <th>Name</th>\n",
       "    </tr>\n",
       "  </thead>\n",
       "  <tbody>\n",
       "    <tr>\n",
       "      <th>0</th>\n",
       "      <td>ES-sky</td>\n",
       "      <td>spain</td>\n",
       "    </tr>\n",
       "    <tr>\n",
       "      <th>1</th>\n",
       "      <td>MAD-sky</td>\n",
       "      <td>madrid</td>\n",
       "    </tr>\n",
       "    <tr>\n",
       "      <th>2</th>\n",
       "      <td>BCN-sky</td>\n",
       "      <td>barcelona</td>\n",
       "    </tr>\n",
       "    <tr>\n",
       "      <th>3</th>\n",
       "      <td>ALC-sky</td>\n",
       "      <td>alicante</td>\n",
       "    </tr>\n",
       "    <tr>\n",
       "      <th>4</th>\n",
       "      <td>AGP-sky</td>\n",
       "      <td>malaga</td>\n",
       "    </tr>\n",
       "  </tbody>\n",
       "</table>\n",
       "</div>"
      ],
      "text/plain": [
       "        ID       Name\n",
       "0   ES-sky      spain\n",
       "1  MAD-sky     madrid\n",
       "2  BCN-sky  barcelona\n",
       "3  ALC-sky   alicante\n",
       "4  AGP-sky     malaga"
      ]
     },
     "execution_count": 138,
     "metadata": {},
     "output_type": "execute_result"
    }
   ],
   "source": [
    "names.head()"
   ]
  },
  {
   "cell_type": "markdown",
   "metadata": {},
   "source": [
    "## Load database with IATA and municipalities"
   ]
  },
  {
   "cell_type": "markdown",
   "metadata": {},
   "source": [
    "Data downloaded to SQL lite database from [OpenFlights](https://openflights.org/data.html) as `airports table`. Filtered and cleaned data to new table `airports_clean`."
   ]
  },
  {
   "cell_type": "code",
   "execution_count": 174,
   "metadata": {
    "ExecuteTime": {
     "end_time": "2021-01-23T11:22:53.182352Z",
     "start_time": "2021-01-23T11:22:52.208099Z"
    }
   },
   "outputs": [],
   "source": [
    "from sqlalchemy import create_engine"
   ]
  },
  {
   "cell_type": "code",
   "execution_count": 273,
   "metadata": {
    "ExecuteTime": {
     "end_time": "2021-01-23T15:08:16.284843Z",
     "start_time": "2021-01-23T15:08:16.280410Z"
    }
   },
   "outputs": [],
   "source": [
    "# load data\n",
    "\n",
    "engine = create_engine('sqlite:///Data/city_iata.db')"
   ]
  },
  {
   "cell_type": "code",
   "execution_count": 274,
   "metadata": {
    "ExecuteTime": {
     "end_time": "2021-01-23T15:08:17.054145Z",
     "start_time": "2021-01-23T15:08:16.936087Z"
    }
   },
   "outputs": [],
   "source": [
    "df = pd.read_sql_table('airports_cities_clean', engine)"
   ]
  },
  {
   "cell_type": "code",
   "execution_count": 275,
   "metadata": {
    "ExecuteTime": {
     "end_time": "2021-01-23T15:08:19.958952Z",
     "start_time": "2021-01-23T15:08:19.937514Z"
    }
   },
   "outputs": [
    {
     "data": {
      "text/html": [
       "<div>\n",
       "<style scoped>\n",
       "    .dataframe tbody tr th:only-of-type {\n",
       "        vertical-align: middle;\n",
       "    }\n",
       "\n",
       "    .dataframe tbody tr th {\n",
       "        vertical-align: top;\n",
       "    }\n",
       "\n",
       "    .dataframe thead th {\n",
       "        text-align: right;\n",
       "    }\n",
       "</style>\n",
       "<table border=\"1\" class=\"dataframe\">\n",
       "  <thead>\n",
       "    <tr style=\"text-align: right;\">\n",
       "      <th></th>\n",
       "      <th>airport_name</th>\n",
       "      <th>latitude_deg</th>\n",
       "      <th>longitude_deg</th>\n",
       "      <th>country</th>\n",
       "      <th>region</th>\n",
       "      <th>city</th>\n",
       "      <th>iata_code</th>\n",
       "      <th>iata_sky_code</th>\n",
       "    </tr>\n",
       "  </thead>\n",
       "  <tbody>\n",
       "    <tr>\n",
       "      <th>0</th>\n",
       "      <td>Utirik Airport</td>\n",
       "      <td>11.222000</td>\n",
       "      <td>169.852005</td>\n",
       "      <td>MH</td>\n",
       "      <td>MH-UTI</td>\n",
       "      <td>Utirik Island</td>\n",
       "      <td>UTK</td>\n",
       "      <td>UTK-sky</td>\n",
       "    </tr>\n",
       "    <tr>\n",
       "      <th>1</th>\n",
       "      <td>Ocean Reef Club Airport</td>\n",
       "      <td>25.325399</td>\n",
       "      <td>-80.274803</td>\n",
       "      <td>US</td>\n",
       "      <td>US-FL</td>\n",
       "      <td>Key Largo</td>\n",
       "      <td>OCA</td>\n",
       "      <td>OCA-sky</td>\n",
       "    </tr>\n",
       "    <tr>\n",
       "      <th>2</th>\n",
       "      <td>Pilot Station Airport</td>\n",
       "      <td>61.934601</td>\n",
       "      <td>-162.899994</td>\n",
       "      <td>US</td>\n",
       "      <td>US-AK</td>\n",
       "      <td>Pilot Station</td>\n",
       "      <td>PQS</td>\n",
       "      <td>PQS-sky</td>\n",
       "    </tr>\n",
       "    <tr>\n",
       "      <th>3</th>\n",
       "      <td>Crested Butte Airpark</td>\n",
       "      <td>38.851918</td>\n",
       "      <td>-106.928341</td>\n",
       "      <td>US</td>\n",
       "      <td>US-CO</td>\n",
       "      <td>Crested Butte</td>\n",
       "      <td>CSE</td>\n",
       "      <td>CSE-sky</td>\n",
       "    </tr>\n",
       "    <tr>\n",
       "      <th>4</th>\n",
       "      <td>LBJ Ranch Airport</td>\n",
       "      <td>30.251801</td>\n",
       "      <td>-98.622498</td>\n",
       "      <td>US</td>\n",
       "      <td>US-TX</td>\n",
       "      <td>Johnson City</td>\n",
       "      <td>JCY</td>\n",
       "      <td>JCY-sky</td>\n",
       "    </tr>\n",
       "  </tbody>\n",
       "</table>\n",
       "</div>"
      ],
      "text/plain": [
       "              airport_name  latitude_deg  longitude_deg country  region  \\\n",
       "0           Utirik Airport     11.222000     169.852005      MH  MH-UTI   \n",
       "1  Ocean Reef Club Airport     25.325399     -80.274803      US   US-FL   \n",
       "2    Pilot Station Airport     61.934601    -162.899994      US   US-AK   \n",
       "3    Crested Butte Airpark     38.851918    -106.928341      US   US-CO   \n",
       "4        LBJ Ranch Airport     30.251801     -98.622498      US   US-TX   \n",
       "\n",
       "            city iata_code iata_sky_code  \n",
       "0  Utirik Island       UTK       UTK-sky  \n",
       "1      Key Largo       OCA       OCA-sky  \n",
       "2  Pilot Station       PQS       PQS-sky  \n",
       "3  Crested Butte       CSE       CSE-sky  \n",
       "4   Johnson City       JCY       JCY-sky  "
      ]
     },
     "execution_count": 275,
     "metadata": {},
     "output_type": "execute_result"
    }
   ],
   "source": [
    "df['iata_sky_code'] = df['iata_code'] + '-sky'\n",
    "df.head()"
   ]
  },
  {
   "cell_type": "code",
   "execution_count": 276,
   "metadata": {
    "ExecuteTime": {
     "end_time": "2021-01-23T15:08:34.022185Z",
     "start_time": "2021-01-23T15:08:34.014467Z"
    }
   },
   "outputs": [
    {
     "data": {
      "text/plain": [
       "0           Utirik Island\n",
       "1               Key Largo\n",
       "2           Pilot Station\n",
       "3           Crested Butte\n",
       "4            Johnson City\n",
       "              ...        \n",
       "8493    Ganjingzi, Dalian\n",
       "8494              Tonghua\n",
       "8495     Hunnan, Shenyang\n",
       "8496                Yanji\n",
       "8497     Laobian, Yingkou\n",
       "Name: city, Length: 8498, dtype: object"
      ]
     },
     "execution_count": 276,
     "metadata": {},
     "output_type": "execute_result"
    }
   ],
   "source": [
    "df['city']"
   ]
  },
  {
   "cell_type": "code",
   "execution_count": 227,
   "metadata": {
    "ExecuteTime": {
     "end_time": "2021-01-23T12:01:36.283600Z",
     "start_time": "2021-01-23T12:01:36.257163Z"
    }
   },
   "outputs": [],
   "source": [
    "#df['city_min'] = df['city'].astype(str).str.lower().str.replace('-', ' ').str.replace('.', ' ').str.replace(',', ' ').str.strip()"
   ]
  },
  {
   "cell_type": "code",
   "execution_count": null,
   "metadata": {
    "ExecuteTime": {
     "end_time": "2021-01-23T12:01:49.758409Z",
     "start_time": "2021-01-23T12:01:48.311785Z"
    }
   },
   "outputs": [],
   "source": [
    "# remove extra white spaces \n",
    "\n",
    "#for i,el in enumerate(df['city_min']):\n",
    "   # df['city_min'][i] = \" \".join(el.split())"
   ]
  },
  {
   "cell_type": "markdown",
   "metadata": {},
   "source": [
    "How will users enter city names?\n",
    "\n",
    "Best is probably to use a dropdown menu that filters down as user types city names, with in parenthesis the country ID (ex. US) in case there are multiple cities with the same name."
   ]
  },
  {
   "cell_type": "code",
   "execution_count": 277,
   "metadata": {
    "ExecuteTime": {
     "end_time": "2021-01-23T15:09:02.843856Z",
     "start_time": "2021-01-23T15:09:02.832865Z"
    }
   },
   "outputs": [],
   "source": [
    "# city names that will appear to user \n",
    "\n",
    "df['city_user'] = df['city'] + ' (' + df['country'] + ')'"
   ]
  },
  {
   "cell_type": "code",
   "execution_count": 278,
   "metadata": {
    "ExecuteTime": {
     "end_time": "2021-01-23T15:09:04.017564Z",
     "start_time": "2021-01-23T15:09:03.996679Z"
    }
   },
   "outputs": [
    {
     "data": {
      "text/html": [
       "<div>\n",
       "<style scoped>\n",
       "    .dataframe tbody tr th:only-of-type {\n",
       "        vertical-align: middle;\n",
       "    }\n",
       "\n",
       "    .dataframe tbody tr th {\n",
       "        vertical-align: top;\n",
       "    }\n",
       "\n",
       "    .dataframe thead th {\n",
       "        text-align: right;\n",
       "    }\n",
       "</style>\n",
       "<table border=\"1\" class=\"dataframe\">\n",
       "  <thead>\n",
       "    <tr style=\"text-align: right;\">\n",
       "      <th></th>\n",
       "      <th>airport_name</th>\n",
       "      <th>latitude_deg</th>\n",
       "      <th>longitude_deg</th>\n",
       "      <th>country</th>\n",
       "      <th>region</th>\n",
       "      <th>city</th>\n",
       "      <th>iata_code</th>\n",
       "      <th>iata_sky_code</th>\n",
       "      <th>city_user</th>\n",
       "    </tr>\n",
       "  </thead>\n",
       "  <tbody>\n",
       "    <tr>\n",
       "      <th>0</th>\n",
       "      <td>Utirik Airport</td>\n",
       "      <td>11.222000</td>\n",
       "      <td>169.852005</td>\n",
       "      <td>MH</td>\n",
       "      <td>MH-UTI</td>\n",
       "      <td>Utirik Island</td>\n",
       "      <td>UTK</td>\n",
       "      <td>UTK-sky</td>\n",
       "      <td>Utirik Island (MH)</td>\n",
       "    </tr>\n",
       "    <tr>\n",
       "      <th>1</th>\n",
       "      <td>Ocean Reef Club Airport</td>\n",
       "      <td>25.325399</td>\n",
       "      <td>-80.274803</td>\n",
       "      <td>US</td>\n",
       "      <td>US-FL</td>\n",
       "      <td>Key Largo</td>\n",
       "      <td>OCA</td>\n",
       "      <td>OCA-sky</td>\n",
       "      <td>Key Largo (US)</td>\n",
       "    </tr>\n",
       "    <tr>\n",
       "      <th>2</th>\n",
       "      <td>Pilot Station Airport</td>\n",
       "      <td>61.934601</td>\n",
       "      <td>-162.899994</td>\n",
       "      <td>US</td>\n",
       "      <td>US-AK</td>\n",
       "      <td>Pilot Station</td>\n",
       "      <td>PQS</td>\n",
       "      <td>PQS-sky</td>\n",
       "      <td>Pilot Station (US)</td>\n",
       "    </tr>\n",
       "    <tr>\n",
       "      <th>3</th>\n",
       "      <td>Crested Butte Airpark</td>\n",
       "      <td>38.851918</td>\n",
       "      <td>-106.928341</td>\n",
       "      <td>US</td>\n",
       "      <td>US-CO</td>\n",
       "      <td>Crested Butte</td>\n",
       "      <td>CSE</td>\n",
       "      <td>CSE-sky</td>\n",
       "      <td>Crested Butte (US)</td>\n",
       "    </tr>\n",
       "    <tr>\n",
       "      <th>4</th>\n",
       "      <td>LBJ Ranch Airport</td>\n",
       "      <td>30.251801</td>\n",
       "      <td>-98.622498</td>\n",
       "      <td>US</td>\n",
       "      <td>US-TX</td>\n",
       "      <td>Johnson City</td>\n",
       "      <td>JCY</td>\n",
       "      <td>JCY-sky</td>\n",
       "      <td>Johnson City (US)</td>\n",
       "    </tr>\n",
       "    <tr>\n",
       "      <th>...</th>\n",
       "      <td>...</td>\n",
       "      <td>...</td>\n",
       "      <td>...</td>\n",
       "      <td>...</td>\n",
       "      <td>...</td>\n",
       "      <td>...</td>\n",
       "      <td>...</td>\n",
       "      <td>...</td>\n",
       "      <td>...</td>\n",
       "    </tr>\n",
       "    <tr>\n",
       "      <th>8493</th>\n",
       "      <td>Dalian Zhoushuizi International Airport</td>\n",
       "      <td>38.965698</td>\n",
       "      <td>121.539001</td>\n",
       "      <td>CN</td>\n",
       "      <td>CN-21</td>\n",
       "      <td>Ganjingzi, Dalian</td>\n",
       "      <td>DLC</td>\n",
       "      <td>DLC-sky</td>\n",
       "      <td>Ganjingzi, Dalian (CN)</td>\n",
       "    </tr>\n",
       "    <tr>\n",
       "      <th>8494</th>\n",
       "      <td>Tonghua Sanyuanpu Airport</td>\n",
       "      <td>42.253889</td>\n",
       "      <td>125.703333</td>\n",
       "      <td>CN</td>\n",
       "      <td>CN-22</td>\n",
       "      <td>Tonghua</td>\n",
       "      <td>TNH</td>\n",
       "      <td>TNH-sky</td>\n",
       "      <td>Tonghua (CN)</td>\n",
       "    </tr>\n",
       "    <tr>\n",
       "      <th>8495</th>\n",
       "      <td>Shenyang Taoxian International Airport</td>\n",
       "      <td>41.639801</td>\n",
       "      <td>123.483002</td>\n",
       "      <td>CN</td>\n",
       "      <td>CN-21</td>\n",
       "      <td>Hunnan, Shenyang</td>\n",
       "      <td>SHE</td>\n",
       "      <td>SHE-sky</td>\n",
       "      <td>Hunnan, Shenyang (CN)</td>\n",
       "    </tr>\n",
       "    <tr>\n",
       "      <th>8496</th>\n",
       "      <td>Yanji Chaoyangchuan Airport</td>\n",
       "      <td>42.882801</td>\n",
       "      <td>129.451004</td>\n",
       "      <td>CN</td>\n",
       "      <td>CN-22</td>\n",
       "      <td>Yanji</td>\n",
       "      <td>YNJ</td>\n",
       "      <td>YNJ-sky</td>\n",
       "      <td>Yanji (CN)</td>\n",
       "    </tr>\n",
       "    <tr>\n",
       "      <th>8497</th>\n",
       "      <td>Yingkou Lanqi Airport</td>\n",
       "      <td>40.542524</td>\n",
       "      <td>122.358600</td>\n",
       "      <td>CN</td>\n",
       "      <td>CN-21</td>\n",
       "      <td>Laobian, Yingkou</td>\n",
       "      <td>YKH</td>\n",
       "      <td>YKH-sky</td>\n",
       "      <td>Laobian, Yingkou (CN)</td>\n",
       "    </tr>\n",
       "  </tbody>\n",
       "</table>\n",
       "<p>8498 rows × 9 columns</p>\n",
       "</div>"
      ],
      "text/plain": [
       "                                 airport_name  latitude_deg  longitude_deg  \\\n",
       "0                              Utirik Airport     11.222000     169.852005   \n",
       "1                     Ocean Reef Club Airport     25.325399     -80.274803   \n",
       "2                       Pilot Station Airport     61.934601    -162.899994   \n",
       "3                       Crested Butte Airpark     38.851918    -106.928341   \n",
       "4                           LBJ Ranch Airport     30.251801     -98.622498   \n",
       "...                                       ...           ...            ...   \n",
       "8493  Dalian Zhoushuizi International Airport     38.965698     121.539001   \n",
       "8494                Tonghua Sanyuanpu Airport     42.253889     125.703333   \n",
       "8495   Shenyang Taoxian International Airport     41.639801     123.483002   \n",
       "8496              Yanji Chaoyangchuan Airport     42.882801     129.451004   \n",
       "8497                    Yingkou Lanqi Airport     40.542524     122.358600   \n",
       "\n",
       "     country  region               city iata_code iata_sky_code  \\\n",
       "0         MH  MH-UTI      Utirik Island       UTK       UTK-sky   \n",
       "1         US   US-FL          Key Largo       OCA       OCA-sky   \n",
       "2         US   US-AK      Pilot Station       PQS       PQS-sky   \n",
       "3         US   US-CO      Crested Butte       CSE       CSE-sky   \n",
       "4         US   US-TX       Johnson City       JCY       JCY-sky   \n",
       "...      ...     ...                ...       ...           ...   \n",
       "8493      CN   CN-21  Ganjingzi, Dalian       DLC       DLC-sky   \n",
       "8494      CN   CN-22            Tonghua       TNH       TNH-sky   \n",
       "8495      CN   CN-21   Hunnan, Shenyang       SHE       SHE-sky   \n",
       "8496      CN   CN-22              Yanji       YNJ       YNJ-sky   \n",
       "8497      CN   CN-21   Laobian, Yingkou       YKH       YKH-sky   \n",
       "\n",
       "                   city_user  \n",
       "0         Utirik Island (MH)  \n",
       "1             Key Largo (US)  \n",
       "2         Pilot Station (US)  \n",
       "3         Crested Butte (US)  \n",
       "4          Johnson City (US)  \n",
       "...                      ...  \n",
       "8493  Ganjingzi, Dalian (CN)  \n",
       "8494            Tonghua (CN)  \n",
       "8495   Hunnan, Shenyang (CN)  \n",
       "8496              Yanji (CN)  \n",
       "8497   Laobian, Yingkou (CN)  \n",
       "\n",
       "[8498 rows x 9 columns]"
      ]
     },
     "execution_count": 278,
     "metadata": {},
     "output_type": "execute_result"
    }
   ],
   "source": [
    "df"
   ]
  },
  {
   "cell_type": "code",
   "execution_count": 281,
   "metadata": {
    "ExecuteTime": {
     "end_time": "2021-01-23T15:11:32.572624Z",
     "start_time": "2021-01-23T15:11:32.556687Z"
    }
   },
   "outputs": [
    {
     "data": {
      "text/html": [
       "<div>\n",
       "<style scoped>\n",
       "    .dataframe tbody tr th:only-of-type {\n",
       "        vertical-align: middle;\n",
       "    }\n",
       "\n",
       "    .dataframe tbody tr th {\n",
       "        vertical-align: top;\n",
       "    }\n",
       "\n",
       "    .dataframe thead th {\n",
       "        text-align: right;\n",
       "    }\n",
       "</style>\n",
       "<table border=\"1\" class=\"dataframe\">\n",
       "  <thead>\n",
       "    <tr style=\"text-align: right;\">\n",
       "      <th></th>\n",
       "      <th>airport_name</th>\n",
       "      <th>latitude_deg</th>\n",
       "      <th>longitude_deg</th>\n",
       "      <th>country</th>\n",
       "      <th>region</th>\n",
       "      <th>city</th>\n",
       "      <th>iata_code</th>\n",
       "      <th>iata_sky_code</th>\n",
       "      <th>city_user</th>\n",
       "    </tr>\n",
       "  </thead>\n",
       "  <tbody>\n",
       "    <tr>\n",
       "      <th>3747</th>\n",
       "      <td>Henry County Airport</td>\n",
       "      <td>36.338200</td>\n",
       "      <td>-88.382896</td>\n",
       "      <td>US</td>\n",
       "      <td>US-TN</td>\n",
       "      <td>Paris</td>\n",
       "      <td>PHT</td>\n",
       "      <td>PHT-sky</td>\n",
       "      <td>Paris (US)</td>\n",
       "    </tr>\n",
       "    <tr>\n",
       "      <th>3788</th>\n",
       "      <td>Cox Field</td>\n",
       "      <td>33.636600</td>\n",
       "      <td>-95.450798</td>\n",
       "      <td>US</td>\n",
       "      <td>US-TX</td>\n",
       "      <td>Paris</td>\n",
       "      <td>PRX</td>\n",
       "      <td>PRX-sky</td>\n",
       "      <td>Paris (US)</td>\n",
       "    </tr>\n",
       "    <tr>\n",
       "      <th>4324</th>\n",
       "      <td>Paris-Le Bourget Airport</td>\n",
       "      <td>48.969398</td>\n",
       "      <td>2.441390</td>\n",
       "      <td>FR</td>\n",
       "      <td>FR-IDF</td>\n",
       "      <td>Paris</td>\n",
       "      <td>LBG</td>\n",
       "      <td>LBG-sky</td>\n",
       "      <td>Paris (FR)</td>\n",
       "    </tr>\n",
       "    <tr>\n",
       "      <th>4326</th>\n",
       "      <td>Charles de Gaulle International Airport</td>\n",
       "      <td>49.012798</td>\n",
       "      <td>2.550000</td>\n",
       "      <td>FR</td>\n",
       "      <td>FR-IDF</td>\n",
       "      <td>Paris</td>\n",
       "      <td>CDG</td>\n",
       "      <td>CDG-sky</td>\n",
       "      <td>Paris (FR)</td>\n",
       "    </tr>\n",
       "    <tr>\n",
       "      <th>4329</th>\n",
       "      <td>Paris-Orly Airport</td>\n",
       "      <td>48.723333</td>\n",
       "      <td>2.379444</td>\n",
       "      <td>FR</td>\n",
       "      <td>FR-IDF</td>\n",
       "      <td>Paris</td>\n",
       "      <td>ORY</td>\n",
       "      <td>ORY-sky</td>\n",
       "      <td>Paris (FR)</td>\n",
       "    </tr>\n",
       "  </tbody>\n",
       "</table>\n",
       "</div>"
      ],
      "text/plain": [
       "                                 airport_name  latitude_deg  longitude_deg  \\\n",
       "3747                     Henry County Airport     36.338200     -88.382896   \n",
       "3788                                Cox Field     33.636600     -95.450798   \n",
       "4324                 Paris-Le Bourget Airport     48.969398       2.441390   \n",
       "4326  Charles de Gaulle International Airport     49.012798       2.550000   \n",
       "4329                       Paris-Orly Airport     48.723333       2.379444   \n",
       "\n",
       "     country  region   city iata_code iata_sky_code   city_user  \n",
       "3747      US   US-TN  Paris       PHT       PHT-sky  Paris (US)  \n",
       "3788      US   US-TX  Paris       PRX       PRX-sky  Paris (US)  \n",
       "4324      FR  FR-IDF  Paris       LBG       LBG-sky  Paris (FR)  \n",
       "4326      FR  FR-IDF  Paris       CDG       CDG-sky  Paris (FR)  \n",
       "4329      FR  FR-IDF  Paris       ORY       ORY-sky  Paris (FR)  "
      ]
     },
     "execution_count": 281,
     "metadata": {},
     "output_type": "execute_result"
    }
   ],
   "source": [
    "df[df['city'] == 'Paris']"
   ]
  },
  {
   "cell_type": "code",
   "execution_count": 288,
   "metadata": {
    "ExecuteTime": {
     "end_time": "2021-01-23T15:53:44.891583Z",
     "start_time": "2021-01-23T15:53:44.731170Z"
    }
   },
   "outputs": [],
   "source": [
    "comp = dict(method='zip', archive_name='city_codes.csv')\n",
    "\n",
    "df.to_csv('Data/city_codes.zip', compression=comp)"
   ]
  },
  {
   "cell_type": "code",
   "execution_count": 289,
   "metadata": {
    "ExecuteTime": {
     "end_time": "2021-01-23T15:53:45.863350Z",
     "start_time": "2021-01-23T15:53:45.782037Z"
    }
   },
   "outputs": [],
   "source": [
    "df.to_csv('Data/city_codes.csv')"
   ]
  },
  {
   "cell_type": "code",
   "execution_count": 268,
   "metadata": {
    "ExecuteTime": {
     "end_time": "2021-01-23T14:23:18.648357Z",
     "start_time": "2021-01-23T14:23:18.639562Z"
    }
   },
   "outputs": [
    {
     "data": {
      "text/plain": [
       "['LTN-sky', 'BQH-sky', 'LGW-sky', 'LCY-sky', 'LHR-sky', 'STN-sky', 'NHT-sky']"
      ]
     },
     "execution_count": 268,
     "metadata": {},
     "output_type": "execute_result"
    }
   ],
   "source": [
    "list(df.loc[df['city_user'] == 'London (GB)', 'iata_sky_code'])"
   ]
  },
  {
   "cell_type": "code",
   "execution_count": 261,
   "metadata": {
    "ExecuteTime": {
     "end_time": "2021-01-23T14:09:13.315639Z",
     "start_time": "2021-01-23T14:09:13.297534Z"
    }
   },
   "outputs": [
    {
     "data": {
      "text/plain": [
       "['LTN_sky',\n",
       " 'BQH_sky',\n",
       " 'LGW_sky',\n",
       " 'LCY_sky',\n",
       " 'LHR_sky',\n",
       " 'STN_sky',\n",
       " 'NHT_sky',\n",
       " 'BOS_sky',\n",
       " 'BNH_sky']"
      ]
     },
     "execution_count": 261,
     "metadata": {},
     "output_type": "execute_result"
    }
   ],
   "source": [
    "city_list = ['London (GB)', 'Boston (US)']\n",
    "city_id_list = []\n",
    "\n",
    "for city in city_list:\n",
    "    city_id = list(df.loc[df['city_user'] == city, 'iata_sky_code'])\n",
    "    city_id_list.append(city_id)\n",
    "\n",
    "city_id_list = [city for sub_city in city_id_list for city in sub_city]\n",
    "city_id_list"
   ]
  },
  {
   "cell_type": "code",
   "execution_count": 270,
   "metadata": {
    "ExecuteTime": {
     "end_time": "2021-01-23T14:40:09.206824Z",
     "start_time": "2021-01-23T14:40:09.185077Z"
    }
   },
   "outputs": [
    {
     "data": {
      "text/html": [
       "<div>\n",
       "<style scoped>\n",
       "    .dataframe tbody tr th:only-of-type {\n",
       "        vertical-align: middle;\n",
       "    }\n",
       "\n",
       "    .dataframe tbody tr th {\n",
       "        vertical-align: top;\n",
       "    }\n",
       "\n",
       "    .dataframe thead th {\n",
       "        text-align: right;\n",
       "    }\n",
       "</style>\n",
       "<table border=\"1\" class=\"dataframe\">\n",
       "  <thead>\n",
       "    <tr style=\"text-align: right;\">\n",
       "      <th></th>\n",
       "      <th>country</th>\n",
       "      <th>region</th>\n",
       "      <th>city</th>\n",
       "      <th>iata_code</th>\n",
       "      <th>latitude</th>\n",
       "      <th>longitude</th>\n",
       "      <th>iata_sky_code</th>\n",
       "      <th>city_clean</th>\n",
       "      <th>city_user</th>\n",
       "    </tr>\n",
       "  </thead>\n",
       "  <tbody>\n",
       "    <tr>\n",
       "      <th>4368</th>\n",
       "      <td>ES</td>\n",
       "      <td>ES-M</td>\n",
       "      <td>Madrid</td>\n",
       "      <td>ECV</td>\n",
       "      <td>40.370701</td>\n",
       "      <td>-3.78514</td>\n",
       "      <td>ECV-sky</td>\n",
       "      <td>madrid</td>\n",
       "      <td>Madrid (ES)</td>\n",
       "    </tr>\n",
       "    <tr>\n",
       "      <th>4379</th>\n",
       "      <td>ES</td>\n",
       "      <td>ES-M</td>\n",
       "      <td>Madrid</td>\n",
       "      <td>MAD</td>\n",
       "      <td>40.471926</td>\n",
       "      <td>-3.56264</td>\n",
       "      <td>MAD-sky</td>\n",
       "      <td>madrid</td>\n",
       "      <td>Madrid (ES)</td>\n",
       "    </tr>\n",
       "    <tr>\n",
       "      <th>4394</th>\n",
       "      <td>ES</td>\n",
       "      <td>ES-M</td>\n",
       "      <td>Madrid</td>\n",
       "      <td>TOJ</td>\n",
       "      <td>40.496700</td>\n",
       "      <td>-3.44587</td>\n",
       "      <td>TOJ-sky</td>\n",
       "      <td>madrid</td>\n",
       "      <td>Madrid (ES)</td>\n",
       "    </tr>\n",
       "  </tbody>\n",
       "</table>\n",
       "</div>"
      ],
      "text/plain": [
       "     country region    city iata_code   latitude  longitude iata_sky_code  \\\n",
       "4368      ES   ES-M  Madrid       ECV  40.370701   -3.78514       ECV-sky   \n",
       "4379      ES   ES-M  Madrid       MAD  40.471926   -3.56264       MAD-sky   \n",
       "4394      ES   ES-M  Madrid       TOJ  40.496700   -3.44587       TOJ-sky   \n",
       "\n",
       "     city_clean    city_user  \n",
       "4368     madrid  Madrid (ES)  \n",
       "4379     madrid  Madrid (ES)  \n",
       "4394     madrid  Madrid (ES)  "
      ]
     },
     "execution_count": 270,
     "metadata": {},
     "output_type": "execute_result"
    }
   ],
   "source": [
    "df[df['city_clean'] == 'madrid']"
   ]
  },
  {
   "cell_type": "code",
   "execution_count": 293,
   "metadata": {
    "ExecuteTime": {
     "end_time": "2021-01-23T15:58:12.634394Z",
     "start_time": "2021-01-23T15:58:12.628026Z"
    }
   },
   "outputs": [
    {
     "data": {
      "text/plain": [
       "'Paris'"
      ]
     },
     "execution_count": 293,
     "metadata": {},
     "output_type": "execute_result"
    }
   ],
   "source": [
    "df.loc[df['iata_code'] == 'CDG', 'city'].item()"
   ]
  },
  {
   "cell_type": "code",
   "execution_count": 338,
   "metadata": {
    "ExecuteTime": {
     "end_time": "2021-01-23T16:29:26.160066Z",
     "start_time": "2021-01-23T16:29:26.143347Z"
    }
   },
   "outputs": [
    {
     "data": {
      "text/html": [
       "<div>\n",
       "<style scoped>\n",
       "    .dataframe tbody tr th:only-of-type {\n",
       "        vertical-align: middle;\n",
       "    }\n",
       "\n",
       "    .dataframe tbody tr th {\n",
       "        vertical-align: top;\n",
       "    }\n",
       "\n",
       "    .dataframe thead th {\n",
       "        text-align: right;\n",
       "    }\n",
       "</style>\n",
       "<table border=\"1\" class=\"dataframe\">\n",
       "  <thead>\n",
       "    <tr style=\"text-align: right;\">\n",
       "      <th></th>\n",
       "      <th>origin_sky_id</th>\n",
       "      <th>origin_iata_id</th>\n",
       "      <th>dest_sky_id</th>\n",
       "      <th>dest_iata_id</th>\n",
       "      <th>price</th>\n",
       "      <th>carrier</th>\n",
       "    </tr>\n",
       "  </thead>\n",
       "  <tbody>\n",
       "  </tbody>\n",
       "</table>\n",
       "</div>"
      ],
      "text/plain": [
       "Empty DataFrame\n",
       "Columns: [origin_sky_id, origin_iata_id, dest_sky_id, dest_iata_id, price, carrier]\n",
       "Index: []"
      ]
     },
     "execution_count": 338,
     "metadata": {},
     "output_type": "execute_result"
    }
   ],
   "source": [
    "columns = ['origin_sky_id', 'origin_iata_id', 'dest_sky_id', 'dest_iata_id', 'price', 'carrier']\n",
    "df_outbound = pd.DataFrame(columns = columns)\n",
    "\n",
    "df_outbound"
   ]
  },
  {
   "cell_type": "code",
   "execution_count": 339,
   "metadata": {
    "ExecuteTime": {
     "end_time": "2021-01-23T16:30:11.427976Z",
     "start_time": "2021-01-23T16:30:11.405163Z"
    }
   },
   "outputs": [
    {
     "data": {
      "text/html": [
       "<div>\n",
       "<style scoped>\n",
       "    .dataframe tbody tr th:only-of-type {\n",
       "        vertical-align: middle;\n",
       "    }\n",
       "\n",
       "    .dataframe tbody tr th {\n",
       "        vertical-align: top;\n",
       "    }\n",
       "\n",
       "    .dataframe thead th {\n",
       "        text-align: right;\n",
       "    }\n",
       "</style>\n",
       "<table border=\"1\" class=\"dataframe\">\n",
       "  <thead>\n",
       "    <tr style=\"text-align: right;\">\n",
       "      <th></th>\n",
       "      <th>origin_sky_id</th>\n",
       "      <th>origin_iata_id</th>\n",
       "      <th>dest_sky_id</th>\n",
       "      <th>dest_iata_id</th>\n",
       "      <th>price</th>\n",
       "      <th>carrier</th>\n",
       "    </tr>\n",
       "  </thead>\n",
       "  <tbody>\n",
       "    <tr>\n",
       "      <th>0</th>\n",
       "      <td>MAD-sky</td>\n",
       "      <td>MAD</td>\n",
       "      <td>CDG-sky</td>\n",
       "      <td>CDG</td>\n",
       "      <td>62</td>\n",
       "      <td>Air Europa</td>\n",
       "    </tr>\n",
       "  </tbody>\n",
       "</table>\n",
       "</div>"
      ],
      "text/plain": [
       "  origin_sky_id origin_iata_id dest_sky_id dest_iata_id price     carrier\n",
       "0       MAD-sky            MAD     CDG-sky          CDG    62  Air Europa"
      ]
     },
     "execution_count": 339,
     "metadata": {},
     "output_type": "execute_result"
    }
   ],
   "source": [
    "df_outbound = df_outbound.append({'origin_sky_id': 'MAD-sky', 'origin_iata_id':'MAD', 'dest_sky_id':'CDG-sky', 'dest_iata_id':'CDG', 'price':62, 'carrier': 'Air Europa'}, ignore_index=True)\n",
    "df_outbound                      "
   ]
  },
  {
   "cell_type": "markdown",
   "metadata": {},
   "source": [
    "## Use get_data.py script"
   ]
  },
  {
   "cell_type": "code",
   "execution_count": 425,
   "metadata": {
    "ExecuteTime": {
     "end_time": "2021-01-23T22:06:39.906719Z",
     "start_time": "2021-01-23T22:06:39.818973Z"
    }
   },
   "outputs": [
    {
     "data": {
      "text/plain": [
       "<module 'get_data' from '/Users/alexandra/Documents/DS_projects/flight_finder/get_data.py'>"
      ]
     },
     "execution_count": 425,
     "metadata": {},
     "output_type": "execute_result"
    }
   ],
   "source": [
    "import importlib\n",
    "import get_data\n",
    "importlib.reload(get_data)"
   ]
  },
  {
   "cell_type": "code",
   "execution_count": 428,
   "metadata": {
    "ExecuteTime": {
     "end_time": "2021-01-23T22:09:35.670104Z",
     "start_time": "2021-01-23T22:08:50.416810Z"
    }
   },
   "outputs": [
    {
     "name": "stdout",
     "output_type": "stream",
     "text": [
      "Processing user-defined parameters...\n",
      "\n",
      "Please provide the two origin cities (separated by a comma): London (GB),Boston (US),\n",
      "Please provide possible destinations (separated by a comma): Madrid (ES),Rome(IT),Paris (FR)\n",
      "Please provide the desired outbound date (yyyy-mm-dd): 2021-02-01\n",
      "Please provide the desired inbound date (yyyy-mm-dd), or enter a space if only one-way trip:  \n"
     ]
    },
    {
     "name": "stderr",
     "output_type": "stream",
     "text": [
      "\r",
      "  0%|          | 0/9 [00:00<?, ?it/s]"
     ]
    },
    {
     "name": "stdout",
     "output_type": "stream",
     "text": [
      "\n",
      "Requesting flight data...\n"
     ]
    },
    {
     "name": "stderr",
     "output_type": "stream",
     "text": [
      "100%|██████████| 9/9 [00:26<00:00,  2.90s/it]\n"
     ]
    },
    {
     "name": "stdout",
     "output_type": "stream",
     "text": [
      "Number of possible flights to be analyzed: 17\n",
      "\n",
      "Done!\n"
     ]
    }
   ],
   "source": [
    "params, df_outbound, df_inbound = get_data.main()"
   ]
  },
  {
   "cell_type": "code",
   "execution_count": 429,
   "metadata": {
    "ExecuteTime": {
     "end_time": "2021-01-23T22:11:27.776203Z",
     "start_time": "2021-01-23T22:11:27.755841Z"
    }
   },
   "outputs": [
    {
     "data": {
      "text/html": [
       "<div>\n",
       "<style scoped>\n",
       "    .dataframe tbody tr th:only-of-type {\n",
       "        vertical-align: middle;\n",
       "    }\n",
       "\n",
       "    .dataframe tbody tr th {\n",
       "        vertical-align: top;\n",
       "    }\n",
       "\n",
       "    .dataframe thead th {\n",
       "        text-align: right;\n",
       "    }\n",
       "</style>\n",
       "<table border=\"1\" class=\"dataframe\">\n",
       "  <thead>\n",
       "    <tr style=\"text-align: right;\">\n",
       "      <th></th>\n",
       "      <th>origin_sky_id</th>\n",
       "      <th>origin_iata_id</th>\n",
       "      <th>dest_sky_id</th>\n",
       "      <th>dest_iata_id</th>\n",
       "      <th>price</th>\n",
       "      <th>carrier</th>\n",
       "      <th>origin_city_name</th>\n",
       "      <th>dest_city_name</th>\n",
       "    </tr>\n",
       "  </thead>\n",
       "  <tbody>\n",
       "    <tr>\n",
       "      <th>0</th>\n",
       "      <td>LTN-sky</td>\n",
       "      <td>LTN</td>\n",
       "      <td>MAD-sky</td>\n",
       "      <td>MAD</td>\n",
       "      <td>54</td>\n",
       "      <td>Wizz Air</td>\n",
       "      <td>London</td>\n",
       "      <td>Madrid</td>\n",
       "    </tr>\n",
       "    <tr>\n",
       "      <th>1</th>\n",
       "      <td>LTN-sky</td>\n",
       "      <td>LTN</td>\n",
       "      <td>CDG-sky</td>\n",
       "      <td>CDG</td>\n",
       "      <td>154</td>\n",
       "      <td>Wizz Air</td>\n",
       "      <td>London</td>\n",
       "      <td>Paris</td>\n",
       "    </tr>\n",
       "    <tr>\n",
       "      <th>2</th>\n",
       "      <td>LTN-sky</td>\n",
       "      <td>LTN</td>\n",
       "      <td>ORY-sky</td>\n",
       "      <td>ORY</td>\n",
       "      <td>90</td>\n",
       "      <td>Wizz Air</td>\n",
       "      <td>London</td>\n",
       "      <td>Paris</td>\n",
       "    </tr>\n",
       "    <tr>\n",
       "      <th>3</th>\n",
       "      <td>LGW-sky</td>\n",
       "      <td>LGW</td>\n",
       "      <td>MAD-sky</td>\n",
       "      <td>MAD</td>\n",
       "      <td>46</td>\n",
       "      <td>Air Europa</td>\n",
       "      <td>London</td>\n",
       "      <td>Madrid</td>\n",
       "    </tr>\n",
       "    <tr>\n",
       "      <th>4</th>\n",
       "      <td>LGW-sky</td>\n",
       "      <td>LGW</td>\n",
       "      <td>CDG-sky</td>\n",
       "      <td>CDG</td>\n",
       "      <td>215</td>\n",
       "      <td>Air Europa</td>\n",
       "      <td>London</td>\n",
       "      <td>Paris</td>\n",
       "    </tr>\n",
       "    <tr>\n",
       "      <th>5</th>\n",
       "      <td>LGW-sky</td>\n",
       "      <td>LGW</td>\n",
       "      <td>ORY-sky</td>\n",
       "      <td>ORY</td>\n",
       "      <td>45</td>\n",
       "      <td>Air Europa</td>\n",
       "      <td>London</td>\n",
       "      <td>Paris</td>\n",
       "    </tr>\n",
       "    <tr>\n",
       "      <th>6</th>\n",
       "      <td>LCY-sky</td>\n",
       "      <td>LCY</td>\n",
       "      <td>MAD-sky</td>\n",
       "      <td>MAD</td>\n",
       "      <td>179</td>\n",
       "      <td>KLM</td>\n",
       "      <td>London</td>\n",
       "      <td>Madrid</td>\n",
       "    </tr>\n",
       "    <tr>\n",
       "      <th>7</th>\n",
       "      <td>LCY-sky</td>\n",
       "      <td>LCY</td>\n",
       "      <td>LBG-sky</td>\n",
       "      <td>LBG</td>\n",
       "      <td>4443</td>\n",
       "      <td>Flexflight</td>\n",
       "      <td>London</td>\n",
       "      <td>Paris</td>\n",
       "    </tr>\n",
       "    <tr>\n",
       "      <th>8</th>\n",
       "      <td>LCY-sky</td>\n",
       "      <td>LCY</td>\n",
       "      <td>CDG-sky</td>\n",
       "      <td>CDG</td>\n",
       "      <td>151</td>\n",
       "      <td>KLM</td>\n",
       "      <td>London</td>\n",
       "      <td>Paris</td>\n",
       "    </tr>\n",
       "    <tr>\n",
       "      <th>9</th>\n",
       "      <td>LCY-sky</td>\n",
       "      <td>LCY</td>\n",
       "      <td>ORY-sky</td>\n",
       "      <td>ORY</td>\n",
       "      <td>225</td>\n",
       "      <td>KLM</td>\n",
       "      <td>London</td>\n",
       "      <td>Paris</td>\n",
       "    </tr>\n",
       "    <tr>\n",
       "      <th>10</th>\n",
       "      <td>LHR-sky</td>\n",
       "      <td>LHR</td>\n",
       "      <td>MAD-sky</td>\n",
       "      <td>MAD</td>\n",
       "      <td>75</td>\n",
       "      <td>British Airways</td>\n",
       "      <td>London</td>\n",
       "      <td>Madrid</td>\n",
       "    </tr>\n",
       "    <tr>\n",
       "      <th>11</th>\n",
       "      <td>LHR-sky</td>\n",
       "      <td>LHR</td>\n",
       "      <td>CDG-sky</td>\n",
       "      <td>CDG</td>\n",
       "      <td>72</td>\n",
       "      <td>British Airways</td>\n",
       "      <td>London</td>\n",
       "      <td>Paris</td>\n",
       "    </tr>\n",
       "    <tr>\n",
       "      <th>12</th>\n",
       "      <td>LHR-sky</td>\n",
       "      <td>LHR</td>\n",
       "      <td>ORY-sky</td>\n",
       "      <td>ORY</td>\n",
       "      <td>89</td>\n",
       "      <td>Iberia</td>\n",
       "      <td>London</td>\n",
       "      <td>Paris</td>\n",
       "    </tr>\n",
       "    <tr>\n",
       "      <th>13</th>\n",
       "      <td>STN-sky</td>\n",
       "      <td>STN</td>\n",
       "      <td>MAD-sky</td>\n",
       "      <td>MAD</td>\n",
       "      <td>56</td>\n",
       "      <td>Ryanair</td>\n",
       "      <td>London</td>\n",
       "      <td>Madrid</td>\n",
       "    </tr>\n",
       "    <tr>\n",
       "      <th>14</th>\n",
       "      <td>STN-sky</td>\n",
       "      <td>STN</td>\n",
       "      <td>CDG-sky</td>\n",
       "      <td>CDG</td>\n",
       "      <td>144</td>\n",
       "      <td>Ryanair</td>\n",
       "      <td>London</td>\n",
       "      <td>Paris</td>\n",
       "    </tr>\n",
       "    <tr>\n",
       "      <th>15</th>\n",
       "      <td>STN-sky</td>\n",
       "      <td>STN</td>\n",
       "      <td>ORY-sky</td>\n",
       "      <td>ORY</td>\n",
       "      <td>87</td>\n",
       "      <td>Ryanair</td>\n",
       "      <td>London</td>\n",
       "      <td>Paris</td>\n",
       "    </tr>\n",
       "    <tr>\n",
       "      <th>16</th>\n",
       "      <td>BOS-sky</td>\n",
       "      <td>BOS</td>\n",
       "      <td>MAD-sky</td>\n",
       "      <td>MAD</td>\n",
       "      <td>265</td>\n",
       "      <td>jetBlue</td>\n",
       "      <td>Boston</td>\n",
       "      <td>Madrid</td>\n",
       "    </tr>\n",
       "  </tbody>\n",
       "</table>\n",
       "</div>"
      ],
      "text/plain": [
       "   origin_sky_id origin_iata_id dest_sky_id dest_iata_id price  \\\n",
       "0        LTN-sky            LTN     MAD-sky          MAD    54   \n",
       "1        LTN-sky            LTN     CDG-sky          CDG   154   \n",
       "2        LTN-sky            LTN     ORY-sky          ORY    90   \n",
       "3        LGW-sky            LGW     MAD-sky          MAD    46   \n",
       "4        LGW-sky            LGW     CDG-sky          CDG   215   \n",
       "5        LGW-sky            LGW     ORY-sky          ORY    45   \n",
       "6        LCY-sky            LCY     MAD-sky          MAD   179   \n",
       "7        LCY-sky            LCY     LBG-sky          LBG  4443   \n",
       "8        LCY-sky            LCY     CDG-sky          CDG   151   \n",
       "9        LCY-sky            LCY     ORY-sky          ORY   225   \n",
       "10       LHR-sky            LHR     MAD-sky          MAD    75   \n",
       "11       LHR-sky            LHR     CDG-sky          CDG    72   \n",
       "12       LHR-sky            LHR     ORY-sky          ORY    89   \n",
       "13       STN-sky            STN     MAD-sky          MAD    56   \n",
       "14       STN-sky            STN     CDG-sky          CDG   144   \n",
       "15       STN-sky            STN     ORY-sky          ORY    87   \n",
       "16       BOS-sky            BOS     MAD-sky          MAD   265   \n",
       "\n",
       "            carrier origin_city_name dest_city_name  \n",
       "0          Wizz Air           London         Madrid  \n",
       "1          Wizz Air           London          Paris  \n",
       "2          Wizz Air           London          Paris  \n",
       "3        Air Europa           London         Madrid  \n",
       "4        Air Europa           London          Paris  \n",
       "5        Air Europa           London          Paris  \n",
       "6               KLM           London         Madrid  \n",
       "7        Flexflight           London          Paris  \n",
       "8               KLM           London          Paris  \n",
       "9               KLM           London          Paris  \n",
       "10  British Airways           London         Madrid  \n",
       "11  British Airways           London          Paris  \n",
       "12           Iberia           London          Paris  \n",
       "13          Ryanair           London         Madrid  \n",
       "14          Ryanair           London          Paris  \n",
       "15          Ryanair           London          Paris  \n",
       "16          jetBlue           Boston         Madrid  "
      ]
     },
     "execution_count": 429,
     "metadata": {},
     "output_type": "execute_result"
    }
   ],
   "source": [
    "df_outbound"
   ]
  },
  {
   "cell_type": "markdown",
   "metadata": {},
   "source": [
    "## Get top N flights with lowest prices"
   ]
  },
  {
   "cell_type": "markdown",
   "metadata": {},
   "source": [
    "Select min price between flights within common destination."
   ]
  },
  {
   "cell_type": "code",
   "execution_count": 432,
   "metadata": {
    "ExecuteTime": {
     "end_time": "2021-01-23T22:18:36.931685Z",
     "start_time": "2021-01-23T22:18:36.927613Z"
    }
   },
   "outputs": [],
   "source": [
    "origin_cities = df_outbound['origin_city_name'].unique()"
   ]
  },
  {
   "cell_type": "code",
   "execution_count": 555,
   "metadata": {
    "ExecuteTime": {
     "end_time": "2021-01-24T13:14:39.885984Z",
     "start_time": "2021-01-24T13:14:39.880131Z"
    }
   },
   "outputs": [],
   "source": [
    "df_outbound_origin1 = df_outbound[ df_outbound['origin_city_name'] == origin_cities[0] ]\n",
    "df_outbound_origin2 = df_outbound[ df_outbound['origin_city_name'] == origin_cities[1] ]"
   ]
  },
  {
   "cell_type": "code",
   "execution_count": 557,
   "metadata": {
    "ExecuteTime": {
     "end_time": "2021-01-24T13:14:42.829171Z",
     "start_time": "2021-01-24T13:14:42.821302Z"
    }
   },
   "outputs": [
    {
     "data": {
      "text/plain": [
       "16"
      ]
     },
     "execution_count": 557,
     "metadata": {},
     "output_type": "execute_result"
    }
   ],
   "source": [
    "num_options_origin1 = df_outbound_origin1.shape[0]\n",
    "num_options_origin1"
   ]
  },
  {
   "cell_type": "code",
   "execution_count": 558,
   "metadata": {
    "ExecuteTime": {
     "end_time": "2021-01-24T13:14:43.734369Z",
     "start_time": "2021-01-24T13:14:43.727258Z"
    }
   },
   "outputs": [
    {
     "data": {
      "text/plain": [
       "1"
      ]
     },
     "execution_count": 558,
     "metadata": {},
     "output_type": "execute_result"
    }
   ],
   "source": [
    "num_options_origin2 = df_outbound_origin2.shape[0]\n",
    "num_options_origin2"
   ]
  },
  {
   "cell_type": "code",
   "execution_count": 600,
   "metadata": {
    "ExecuteTime": {
     "end_time": "2021-01-24T13:56:17.206773Z",
     "start_time": "2021-01-24T13:56:17.196712Z"
    }
   },
   "outputs": [],
   "source": [
    "columns = ['common_dest_id', 'common_dest_name', 'total_price']\n",
    "for i in range(len(origin_cities)):\n",
    "    columns.append('origin_id_'+str(i+1))\n",
    "    columns.append('origin_name_'+str(i+1))\n",
    "    columns.append('carrier_'+str(i+1))\n",
    "    columns.append('price_'+str(i+1))\n",
    "    \n",
    "df_common_dest = pd.DataFrame(columns = columns)\n"
   ]
  },
  {
   "cell_type": "code",
   "execution_count": 601,
   "metadata": {
    "ExecuteTime": {
     "end_time": "2021-01-24T13:56:18.285961Z",
     "start_time": "2021-01-24T13:56:18.222216Z"
    }
   },
   "outputs": [],
   "source": [
    "for row1 in df_outbound_origin1.iterrows():\n",
    "    for row2 in df_outbound_origin2.iterrows():\n",
    "        if row1[1][7] == row2[1][7]:\n",
    "            price_1 = row1[1][4]\n",
    "            price_2 = row2[1][4]\n",
    "            \n",
    "            df_common_dest = df_common_dest.append({'common_dest_id': row1[1][3],\n",
    "                                                    'common_dest_name': row1[1][7],\n",
    "                                                    'total_price': price_1+price_2,\n",
    "                                                    'origin_id_1': row1[1][1],\n",
    "                                                    'origin_name_1': row1[1][6],\n",
    "                                                    'carrier_1': row1[1][5],\n",
    "                                                    'price_1': price_1,\n",
    "                                                    'origin_id_2': row2[1][1],\n",
    "                                                    'origin_name_2': row2[1][6],\n",
    "                                                    'carrier_2': row[1][5],\n",
    "                                                    'price_2': price_2\n",
    "                                                   }, ignore_index=True)\n"
   ]
  },
  {
   "cell_type": "code",
   "execution_count": 603,
   "metadata": {
    "ExecuteTime": {
     "end_time": "2021-01-24T13:56:26.602503Z",
     "start_time": "2021-01-24T13:56:26.587786Z"
    }
   },
   "outputs": [],
   "source": [
    "df_common_dest = df_common_dest.sort_values(['total_price']).reset_index(drop=True)"
   ]
  },
  {
   "cell_type": "code",
   "execution_count": 604,
   "metadata": {
    "ExecuteTime": {
     "end_time": "2021-01-24T13:56:27.610463Z",
     "start_time": "2021-01-24T13:56:27.596449Z"
    }
   },
   "outputs": [
    {
     "data": {
      "text/html": [
       "<div>\n",
       "<style scoped>\n",
       "    .dataframe tbody tr th:only-of-type {\n",
       "        vertical-align: middle;\n",
       "    }\n",
       "\n",
       "    .dataframe tbody tr th {\n",
       "        vertical-align: top;\n",
       "    }\n",
       "\n",
       "    .dataframe thead th {\n",
       "        text-align: right;\n",
       "    }\n",
       "</style>\n",
       "<table border=\"1\" class=\"dataframe\">\n",
       "  <thead>\n",
       "    <tr style=\"text-align: right;\">\n",
       "      <th></th>\n",
       "      <th>common_dest_id</th>\n",
       "      <th>common_dest_name</th>\n",
       "      <th>total_price</th>\n",
       "      <th>origin_id_1</th>\n",
       "      <th>origin_name_1</th>\n",
       "      <th>carrier_1</th>\n",
       "      <th>price_1</th>\n",
       "      <th>origin_id_2</th>\n",
       "      <th>origin_name_2</th>\n",
       "      <th>carrier_2</th>\n",
       "      <th>price_2</th>\n",
       "    </tr>\n",
       "  </thead>\n",
       "  <tbody>\n",
       "    <tr>\n",
       "      <th>0</th>\n",
       "      <td>MAD</td>\n",
       "      <td>Madrid</td>\n",
       "      <td>311</td>\n",
       "      <td>LGW</td>\n",
       "      <td>London</td>\n",
       "      <td>Air Europa</td>\n",
       "      <td>46</td>\n",
       "      <td>BOS</td>\n",
       "      <td>Boston</td>\n",
       "      <td>Ryanair</td>\n",
       "      <td>265</td>\n",
       "    </tr>\n",
       "    <tr>\n",
       "      <th>1</th>\n",
       "      <td>MAD</td>\n",
       "      <td>Madrid</td>\n",
       "      <td>319</td>\n",
       "      <td>LTN</td>\n",
       "      <td>London</td>\n",
       "      <td>Wizz Air</td>\n",
       "      <td>54</td>\n",
       "      <td>BOS</td>\n",
       "      <td>Boston</td>\n",
       "      <td>Ryanair</td>\n",
       "      <td>265</td>\n",
       "    </tr>\n",
       "    <tr>\n",
       "      <th>2</th>\n",
       "      <td>MAD</td>\n",
       "      <td>Madrid</td>\n",
       "      <td>321</td>\n",
       "      <td>STN</td>\n",
       "      <td>London</td>\n",
       "      <td>Ryanair</td>\n",
       "      <td>56</td>\n",
       "      <td>BOS</td>\n",
       "      <td>Boston</td>\n",
       "      <td>Ryanair</td>\n",
       "      <td>265</td>\n",
       "    </tr>\n",
       "    <tr>\n",
       "      <th>3</th>\n",
       "      <td>MAD</td>\n",
       "      <td>Madrid</td>\n",
       "      <td>340</td>\n",
       "      <td>LHR</td>\n",
       "      <td>London</td>\n",
       "      <td>British Airways</td>\n",
       "      <td>75</td>\n",
       "      <td>BOS</td>\n",
       "      <td>Boston</td>\n",
       "      <td>Ryanair</td>\n",
       "      <td>265</td>\n",
       "    </tr>\n",
       "    <tr>\n",
       "      <th>4</th>\n",
       "      <td>MAD</td>\n",
       "      <td>Madrid</td>\n",
       "      <td>444</td>\n",
       "      <td>LCY</td>\n",
       "      <td>London</td>\n",
       "      <td>KLM</td>\n",
       "      <td>179</td>\n",
       "      <td>BOS</td>\n",
       "      <td>Boston</td>\n",
       "      <td>Ryanair</td>\n",
       "      <td>265</td>\n",
       "    </tr>\n",
       "  </tbody>\n",
       "</table>\n",
       "</div>"
      ],
      "text/plain": [
       "  common_dest_id common_dest_name total_price origin_id_1 origin_name_1  \\\n",
       "0            MAD           Madrid         311         LGW        London   \n",
       "1            MAD           Madrid         319         LTN        London   \n",
       "2            MAD           Madrid         321         STN        London   \n",
       "3            MAD           Madrid         340         LHR        London   \n",
       "4            MAD           Madrid         444         LCY        London   \n",
       "\n",
       "         carrier_1 price_1 origin_id_2 origin_name_2 carrier_2 price_2  \n",
       "0       Air Europa      46         BOS        Boston   Ryanair     265  \n",
       "1         Wizz Air      54         BOS        Boston   Ryanair     265  \n",
       "2          Ryanair      56         BOS        Boston   Ryanair     265  \n",
       "3  British Airways      75         BOS        Boston   Ryanair     265  \n",
       "4              KLM     179         BOS        Boston   Ryanair     265  "
      ]
     },
     "execution_count": 604,
     "metadata": {},
     "output_type": "execute_result"
    }
   ],
   "source": [
    "df_common_dest"
   ]
  },
  {
   "cell_type": "code",
   "execution_count": null,
   "metadata": {
    "ExecuteTime": {
     "end_time": "2021-01-24T13:56:44.649557Z",
     "start_time": "2021-01-24T13:56:44.643050Z"
    }
   },
   "outputs": [],
   "source": [
    "sorted_common_dest = df_common_dest.to_json(orient=\"index\")\n",
    "sorted_common_dest"
   ]
  },
  {
   "cell_type": "code",
   "execution_count": 606,
   "metadata": {
    "ExecuteTime": {
     "end_time": "2021-01-24T13:57:05.245553Z",
     "start_time": "2021-01-24T13:57:05.237987Z"
    },
    "scrolled": true
   },
   "outputs": [
    {
     "data": {
      "text/plain": [
       "{'0': {'common_dest_id': 'MAD',\n",
       "  'common_dest_name': 'Madrid',\n",
       "  'total_price': 311,\n",
       "  'origin_id_1': 'LGW',\n",
       "  'origin_name_1': 'London',\n",
       "  'carrier_1': 'Air Europa',\n",
       "  'price_1': 46,\n",
       "  'origin_id_2': 'BOS',\n",
       "  'origin_name_2': 'Boston',\n",
       "  'carrier_2': 'Ryanair',\n",
       "  'price_2': 265},\n",
       " '1': {'common_dest_id': 'MAD',\n",
       "  'common_dest_name': 'Madrid',\n",
       "  'total_price': 319,\n",
       "  'origin_id_1': 'LTN',\n",
       "  'origin_name_1': 'London',\n",
       "  'carrier_1': 'Wizz Air',\n",
       "  'price_1': 54,\n",
       "  'origin_id_2': 'BOS',\n",
       "  'origin_name_2': 'Boston',\n",
       "  'carrier_2': 'Ryanair',\n",
       "  'price_2': 265},\n",
       " '2': {'common_dest_id': 'MAD',\n",
       "  'common_dest_name': 'Madrid',\n",
       "  'total_price': 321,\n",
       "  'origin_id_1': 'STN',\n",
       "  'origin_name_1': 'London',\n",
       "  'carrier_1': 'Ryanair',\n",
       "  'price_1': 56,\n",
       "  'origin_id_2': 'BOS',\n",
       "  'origin_name_2': 'Boston',\n",
       "  'carrier_2': 'Ryanair',\n",
       "  'price_2': 265},\n",
       " '3': {'common_dest_id': 'MAD',\n",
       "  'common_dest_name': 'Madrid',\n",
       "  'total_price': 340,\n",
       "  'origin_id_1': 'LHR',\n",
       "  'origin_name_1': 'London',\n",
       "  'carrier_1': 'British Airways',\n",
       "  'price_1': 75,\n",
       "  'origin_id_2': 'BOS',\n",
       "  'origin_name_2': 'Boston',\n",
       "  'carrier_2': 'Ryanair',\n",
       "  'price_2': 265},\n",
       " '4': {'common_dest_id': 'MAD',\n",
       "  'common_dest_name': 'Madrid',\n",
       "  'total_price': 444,\n",
       "  'origin_id_1': 'LCY',\n",
       "  'origin_name_1': 'London',\n",
       "  'carrier_1': 'KLM',\n",
       "  'price_1': 179,\n",
       "  'origin_id_2': 'BOS',\n",
       "  'origin_name_2': 'Boston',\n",
       "  'carrier_2': 'Ryanair',\n",
       "  'price_2': 265}}"
      ]
     },
     "execution_count": 606,
     "metadata": {},
     "output_type": "execute_result"
    }
   ],
   "source": [
    "parsed = json.loads(sorted_common_dest)\n",
    "parsed\n"
   ]
  },
  {
   "cell_type": "code",
   "execution_count": 607,
   "metadata": {
    "ExecuteTime": {
     "end_time": "2021-01-24T13:57:14.108899Z",
     "start_time": "2021-01-24T13:57:14.105283Z"
    }
   },
   "outputs": [],
   "source": [
    "with open('Data/sorted_common_dest.txt', 'w') as outfile:\n",
    "    json.dump(parsed, outfile)"
   ]
  },
  {
   "cell_type": "markdown",
   "metadata": {},
   "source": [
    "## run calculate_cheapest.py"
   ]
  },
  {
   "cell_type": "code",
   "execution_count": 630,
   "metadata": {
    "ExecuteTime": {
     "end_time": "2021-01-24T15:49:50.131041Z",
     "start_time": "2021-01-24T15:49:50.121918Z"
    }
   },
   "outputs": [
    {
     "data": {
      "text/plain": [
       "<module 'calculate_cheapest' from '/Users/alexandra/Documents/DS_projects/flight_finder/calculate_cheapest.py'>"
      ]
     },
     "execution_count": 630,
     "metadata": {},
     "output_type": "execute_result"
    }
   ],
   "source": [
    "import importlib\n",
    "import calculate_cheapest\n",
    "importlib.reload(calculate_cheapest)"
   ]
  },
  {
   "cell_type": "code",
   "execution_count": 620,
   "metadata": {
    "ExecuteTime": {
     "end_time": "2021-01-24T15:39:19.890035Z",
     "start_time": "2021-01-24T15:37:45.968345Z"
    }
   },
   "outputs": [
    {
     "name": "stdout",
     "output_type": "stream",
     "text": [
      "Processing user-defined parameters...\n",
      "\n",
      "Please provide the two origin cities (separated by a comma): London (GB),Boston (US)\n",
      "Please provide possible destinations (separated by a comma): Madrid (ES),Rome(IT),Paris (FR)\n",
      "Please provide the desired outbound date (yyyy-mm-dd): 2021-02-01\n",
      "Please provide the desired inbound date (yyyy-mm-dd), or enter a space if only one-way trip:  \n",
      "How many flights would you like to see? (ex enter 3 to see top 3 cheapest flights) 2\n"
     ]
    },
    {
     "name": "stderr",
     "output_type": "stream",
     "text": [
      "\r",
      "  0%|          | 0/9 [00:00<?, ?it/s]"
     ]
    },
    {
     "name": "stdout",
     "output_type": "stream",
     "text": [
      "\n",
      "Requesting flight data...\n",
      "\n",
      "Processing flight data...\n"
     ]
    },
    {
     "name": "stderr",
     "output_type": "stream",
     "text": [
      "100%|██████████| 9/9 [00:18<00:00,  2.02s/it]\n"
     ]
    },
    {
     "name": "stdout",
     "output_type": "stream",
     "text": [
      "Number of possible flights to be analyzed: 18\n",
      "\n",
      "Done!\n"
     ]
    }
   ],
   "source": [
    "params, df_outbound, df_inbound = get_data.main()"
   ]
  },
  {
   "cell_type": "code",
   "execution_count": 621,
   "metadata": {
    "ExecuteTime": {
     "end_time": "2021-01-24T15:39:54.051267Z",
     "start_time": "2021-01-24T15:39:53.911635Z"
    }
   },
   "outputs": [
    {
     "name": "stdout",
     "output_type": "stream",
     "text": [
      "Sorting by price...\n"
     ]
    }
   ],
   "source": [
    "df_common_dest = calculate_cheapest.get_common_dest(df_outbound, df_inbound)"
   ]
  },
  {
   "cell_type": "code",
   "execution_count": 622,
   "metadata": {
    "ExecuteTime": {
     "end_time": "2021-01-24T15:40:25.424431Z",
     "start_time": "2021-01-24T15:40:25.400890Z"
    }
   },
   "outputs": [
    {
     "data": {
      "text/html": [
       "<div>\n",
       "<style scoped>\n",
       "    .dataframe tbody tr th:only-of-type {\n",
       "        vertical-align: middle;\n",
       "    }\n",
       "\n",
       "    .dataframe tbody tr th {\n",
       "        vertical-align: top;\n",
       "    }\n",
       "\n",
       "    .dataframe thead th {\n",
       "        text-align: right;\n",
       "    }\n",
       "</style>\n",
       "<table border=\"1\" class=\"dataframe\">\n",
       "  <thead>\n",
       "    <tr style=\"text-align: right;\">\n",
       "      <th></th>\n",
       "      <th>common_dest_id</th>\n",
       "      <th>common_dest_name</th>\n",
       "      <th>total_price</th>\n",
       "      <th>origin_id_1</th>\n",
       "      <th>origin_name_1</th>\n",
       "      <th>carrier_1</th>\n",
       "      <th>price_1</th>\n",
       "      <th>origin_id_2</th>\n",
       "      <th>origin_name_2</th>\n",
       "      <th>carrier_2</th>\n",
       "      <th>price_2</th>\n",
       "    </tr>\n",
       "  </thead>\n",
       "  <tbody>\n",
       "    <tr>\n",
       "      <th>0</th>\n",
       "      <td>MAD</td>\n",
       "      <td>Madrid</td>\n",
       "      <td>311</td>\n",
       "      <td>LGW</td>\n",
       "      <td>London</td>\n",
       "      <td>Air Europa</td>\n",
       "      <td>46</td>\n",
       "      <td>BOS</td>\n",
       "      <td>Boston</td>\n",
       "      <td>jetBlue</td>\n",
       "      <td>265</td>\n",
       "    </tr>\n",
       "    <tr>\n",
       "      <th>1</th>\n",
       "      <td>MAD</td>\n",
       "      <td>Madrid</td>\n",
       "      <td>319</td>\n",
       "      <td>LTN</td>\n",
       "      <td>London</td>\n",
       "      <td>Wizz Air</td>\n",
       "      <td>54</td>\n",
       "      <td>BOS</td>\n",
       "      <td>Boston</td>\n",
       "      <td>jetBlue</td>\n",
       "      <td>265</td>\n",
       "    </tr>\n",
       "    <tr>\n",
       "      <th>2</th>\n",
       "      <td>MAD</td>\n",
       "      <td>Madrid</td>\n",
       "      <td>321</td>\n",
       "      <td>STN</td>\n",
       "      <td>London</td>\n",
       "      <td>Ryanair</td>\n",
       "      <td>56</td>\n",
       "      <td>BOS</td>\n",
       "      <td>Boston</td>\n",
       "      <td>jetBlue</td>\n",
       "      <td>265</td>\n",
       "    </tr>\n",
       "    <tr>\n",
       "      <th>3</th>\n",
       "      <td>ORY</td>\n",
       "      <td>Paris</td>\n",
       "      <td>325</td>\n",
       "      <td>LGW</td>\n",
       "      <td>London</td>\n",
       "      <td>Air Europa</td>\n",
       "      <td>45</td>\n",
       "      <td>BOS</td>\n",
       "      <td>Boston</td>\n",
       "      <td>jetBlue</td>\n",
       "      <td>280</td>\n",
       "    </tr>\n",
       "    <tr>\n",
       "      <th>4</th>\n",
       "      <td>MAD</td>\n",
       "      <td>Madrid</td>\n",
       "      <td>340</td>\n",
       "      <td>LHR</td>\n",
       "      <td>London</td>\n",
       "      <td>British Airways</td>\n",
       "      <td>75</td>\n",
       "      <td>BOS</td>\n",
       "      <td>Boston</td>\n",
       "      <td>jetBlue</td>\n",
       "      <td>265</td>\n",
       "    </tr>\n",
       "    <tr>\n",
       "      <th>5</th>\n",
       "      <td>CDG</td>\n",
       "      <td>Paris</td>\n",
       "      <td>352</td>\n",
       "      <td>LHR</td>\n",
       "      <td>London</td>\n",
       "      <td>British Airways</td>\n",
       "      <td>72</td>\n",
       "      <td>BOS</td>\n",
       "      <td>Boston</td>\n",
       "      <td>jetBlue</td>\n",
       "      <td>280</td>\n",
       "    </tr>\n",
       "    <tr>\n",
       "      <th>6</th>\n",
       "      <td>ORY</td>\n",
       "      <td>Paris</td>\n",
       "      <td>369</td>\n",
       "      <td>LHR</td>\n",
       "      <td>London</td>\n",
       "      <td>Iberia</td>\n",
       "      <td>89</td>\n",
       "      <td>BOS</td>\n",
       "      <td>Boston</td>\n",
       "      <td>jetBlue</td>\n",
       "      <td>280</td>\n",
       "    </tr>\n",
       "    <tr>\n",
       "      <th>7</th>\n",
       "      <td>ORY</td>\n",
       "      <td>Paris</td>\n",
       "      <td>371</td>\n",
       "      <td>STN</td>\n",
       "      <td>London</td>\n",
       "      <td>Ryanair</td>\n",
       "      <td>91</td>\n",
       "      <td>BOS</td>\n",
       "      <td>Boston</td>\n",
       "      <td>jetBlue</td>\n",
       "      <td>280</td>\n",
       "    </tr>\n",
       "    <tr>\n",
       "      <th>8</th>\n",
       "      <td>ORY</td>\n",
       "      <td>Paris</td>\n",
       "      <td>373</td>\n",
       "      <td>LTN</td>\n",
       "      <td>London</td>\n",
       "      <td>Wizz Air</td>\n",
       "      <td>93</td>\n",
       "      <td>BOS</td>\n",
       "      <td>Boston</td>\n",
       "      <td>jetBlue</td>\n",
       "      <td>280</td>\n",
       "    </tr>\n",
       "    <tr>\n",
       "      <th>9</th>\n",
       "      <td>CDG</td>\n",
       "      <td>Paris</td>\n",
       "      <td>388</td>\n",
       "      <td>LTN</td>\n",
       "      <td>London</td>\n",
       "      <td>Wizz Air</td>\n",
       "      <td>108</td>\n",
       "      <td>BOS</td>\n",
       "      <td>Boston</td>\n",
       "      <td>jetBlue</td>\n",
       "      <td>280</td>\n",
       "    </tr>\n",
       "    <tr>\n",
       "      <th>10</th>\n",
       "      <td>CDG</td>\n",
       "      <td>Paris</td>\n",
       "      <td>430</td>\n",
       "      <td>STN</td>\n",
       "      <td>London</td>\n",
       "      <td>Ryanair</td>\n",
       "      <td>150</td>\n",
       "      <td>BOS</td>\n",
       "      <td>Boston</td>\n",
       "      <td>jetBlue</td>\n",
       "      <td>280</td>\n",
       "    </tr>\n",
       "    <tr>\n",
       "      <th>11</th>\n",
       "      <td>CDG</td>\n",
       "      <td>Paris</td>\n",
       "      <td>431</td>\n",
       "      <td>LCY</td>\n",
       "      <td>London</td>\n",
       "      <td>KLM</td>\n",
       "      <td>151</td>\n",
       "      <td>BOS</td>\n",
       "      <td>Boston</td>\n",
       "      <td>jetBlue</td>\n",
       "      <td>280</td>\n",
       "    </tr>\n",
       "    <tr>\n",
       "      <th>12</th>\n",
       "      <td>MAD</td>\n",
       "      <td>Madrid</td>\n",
       "      <td>443</td>\n",
       "      <td>LCY</td>\n",
       "      <td>London</td>\n",
       "      <td>KLM</td>\n",
       "      <td>178</td>\n",
       "      <td>BOS</td>\n",
       "      <td>Boston</td>\n",
       "      <td>jetBlue</td>\n",
       "      <td>265</td>\n",
       "    </tr>\n",
       "    <tr>\n",
       "      <th>13</th>\n",
       "      <td>CDG</td>\n",
       "      <td>Paris</td>\n",
       "      <td>484</td>\n",
       "      <td>LGW</td>\n",
       "      <td>London</td>\n",
       "      <td>Air Europa</td>\n",
       "      <td>204</td>\n",
       "      <td>BOS</td>\n",
       "      <td>Boston</td>\n",
       "      <td>jetBlue</td>\n",
       "      <td>280</td>\n",
       "    </tr>\n",
       "    <tr>\n",
       "      <th>14</th>\n",
       "      <td>ORY</td>\n",
       "      <td>Paris</td>\n",
       "      <td>514</td>\n",
       "      <td>LCY</td>\n",
       "      <td>London</td>\n",
       "      <td>KLM</td>\n",
       "      <td>234</td>\n",
       "      <td>BOS</td>\n",
       "      <td>Boston</td>\n",
       "      <td>jetBlue</td>\n",
       "      <td>280</td>\n",
       "    </tr>\n",
       "    <tr>\n",
       "      <th>15</th>\n",
       "      <td>LBG</td>\n",
       "      <td>Paris</td>\n",
       "      <td>4723</td>\n",
       "      <td>LCY</td>\n",
       "      <td>London</td>\n",
       "      <td>Flexflight</td>\n",
       "      <td>4443</td>\n",
       "      <td>BOS</td>\n",
       "      <td>Boston</td>\n",
       "      <td>jetBlue</td>\n",
       "      <td>280</td>\n",
       "    </tr>\n",
       "  </tbody>\n",
       "</table>\n",
       "</div>"
      ],
      "text/plain": [
       "   common_dest_id common_dest_name total_price origin_id_1 origin_name_1  \\\n",
       "0             MAD           Madrid         311         LGW        London   \n",
       "1             MAD           Madrid         319         LTN        London   \n",
       "2             MAD           Madrid         321         STN        London   \n",
       "3             ORY            Paris         325         LGW        London   \n",
       "4             MAD           Madrid         340         LHR        London   \n",
       "5             CDG            Paris         352         LHR        London   \n",
       "6             ORY            Paris         369         LHR        London   \n",
       "7             ORY            Paris         371         STN        London   \n",
       "8             ORY            Paris         373         LTN        London   \n",
       "9             CDG            Paris         388         LTN        London   \n",
       "10            CDG            Paris         430         STN        London   \n",
       "11            CDG            Paris         431         LCY        London   \n",
       "12            MAD           Madrid         443         LCY        London   \n",
       "13            CDG            Paris         484         LGW        London   \n",
       "14            ORY            Paris         514         LCY        London   \n",
       "15            LBG            Paris        4723         LCY        London   \n",
       "\n",
       "          carrier_1 price_1 origin_id_2 origin_name_2 carrier_2 price_2  \n",
       "0        Air Europa      46         BOS        Boston   jetBlue     265  \n",
       "1          Wizz Air      54         BOS        Boston   jetBlue     265  \n",
       "2           Ryanair      56         BOS        Boston   jetBlue     265  \n",
       "3        Air Europa      45         BOS        Boston   jetBlue     280  \n",
       "4   British Airways      75         BOS        Boston   jetBlue     265  \n",
       "5   British Airways      72         BOS        Boston   jetBlue     280  \n",
       "6            Iberia      89         BOS        Boston   jetBlue     280  \n",
       "7           Ryanair      91         BOS        Boston   jetBlue     280  \n",
       "8          Wizz Air      93         BOS        Boston   jetBlue     280  \n",
       "9          Wizz Air     108         BOS        Boston   jetBlue     280  \n",
       "10          Ryanair     150         BOS        Boston   jetBlue     280  \n",
       "11              KLM     151         BOS        Boston   jetBlue     280  \n",
       "12              KLM     178         BOS        Boston   jetBlue     265  \n",
       "13       Air Europa     204         BOS        Boston   jetBlue     280  \n",
       "14              KLM     234         BOS        Boston   jetBlue     280  \n",
       "15       Flexflight    4443         BOS        Boston   jetBlue     280  "
      ]
     },
     "execution_count": 622,
     "metadata": {},
     "output_type": "execute_result"
    }
   ],
   "source": [
    "df_common_dest"
   ]
  },
  {
   "cell_type": "code",
   "execution_count": 631,
   "metadata": {
    "ExecuteTime": {
     "end_time": "2021-01-24T15:49:53.494745Z",
     "start_time": "2021-01-24T15:49:53.487686Z"
    }
   },
   "outputs": [
    {
     "name": "stdout",
     "output_type": "stream",
     "text": [
      "1st cheapest flight:\n",
      "First Outbound Journey: London(LGW) -> Madrid(MAD)\n",
      "with Air Europa at 46 EUR\n",
      "Second Outbound Journey: Boston(BOS) -> Madrid(MAD)\n",
      "with jetBlue at 265 EUR\n",
      "For a total price of 311\n",
      "-----------\n",
      "2st cheapest flight:\n",
      "First Outbound Journey: London(LTN) -> Madrid(MAD)\n",
      "with Wizz Air at 54 EUR\n",
      "Second Outbound Journey: Boston(BOS) -> Madrid(MAD)\n",
      "with jetBlue at 265 EUR\n",
      "For a total price of 319\n",
      "-----------\n"
     ]
    }
   ],
   "source": [
    "calculate_cheapest.print_top_flights(params, df_common_dest)"
   ]
  },
  {
   "cell_type": "markdown",
   "metadata": {},
   "source": [
    "## Use live prices"
   ]
  },
  {
   "cell_type": "markdown",
   "metadata": {},
   "source": [
    "* Live Flights Search queries all flight providers regarding recent flight data, availability, and prices (updated but slow to return info)\n",
    "* Browse Flight Searches gets information from skyscanner cache, might be slightly outdated but more detailed and immediate (more efficient for wide range of dates and destinations). Returns cheapeast quote for each origin and destination per day. Popular routes updated frequently vs less popular routes and dates.\n",
    "\n",
    "\n",
    "Possible option: Do Browse Flight Search, then once have chosen destination and date combination do Live Flight Search to find up to date availability and price (most accurate that Skyscanner provides)."
   ]
  },
  {
   "cell_type": "code",
   "execution_count": 412,
   "metadata": {
    "ExecuteTime": {
     "end_time": "2021-01-23T21:45:22.824951Z",
     "start_time": "2021-01-23T21:45:22.348635Z"
    }
   },
   "outputs": [
    {
     "data": {
      "text/plain": [
       "{}"
      ]
     },
     "execution_count": 412,
     "metadata": {},
     "output_type": "execute_result"
    }
   ],
   "source": [
    "headers = {\n",
    "    \"X-RapidAPI-Host\" : \"skyscanner-skyscanner-flight-search-v1.p.rapidapi.com\",\n",
    "    \"X-RapidAPI-Key\" : \"a25c140655mshcc3de02bc48e78fp1d8ae5jsn716b89dc608a\",\n",
    "    \"Content-Type\" : \"application/x-www-form-urlencoded\"\n",
    "    }\n",
    "\n",
    "data = {'country' : 'ES',\n",
    "        'currency' :'EUR',\n",
    "        'locale' : 'en-US',\n",
    "        'originPlace':'MAD-sky',\n",
    "        'destinationPlace' : 'ZRH-sky',\n",
    "        'outboundDate' : '2021-02-01',\n",
    "        'adults': 1,\n",
    "        'apikey': 'prtl6749387986743898559646983194'\n",
    "       }\n",
    "\n",
    "url_live = 'https://partners.api.skyscanner.net/apiservices/pricing/v1.0'\n",
    "\n",
    "response_live = requests.post(url_live, data = data, headers= headers)\n",
    "temp_live = json.loads(response_live.text)\n",
    "\n",
    "temp_live"
   ]
  },
  {
   "cell_type": "code",
   "execution_count": 419,
   "metadata": {
    "ExecuteTime": {
     "end_time": "2021-01-23T21:54:03.465773Z",
     "start_time": "2021-01-23T21:54:03.459775Z"
    }
   },
   "outputs": [
    {
     "data": {
      "text/plain": [
       "201"
      ]
     },
     "execution_count": 419,
     "metadata": {},
     "output_type": "execute_result"
    }
   ],
   "source": [
    "response_live.status_code"
   ]
  },
  {
   "cell_type": "code",
   "execution_count": 416,
   "metadata": {
    "ExecuteTime": {
     "end_time": "2021-01-23T21:48:08.576222Z",
     "start_time": "2021-01-23T21:48:08.570146Z"
    }
   },
   "outputs": [
    {
     "data": {
      "text/plain": [
       "'{ }'"
      ]
     },
     "execution_count": 416,
     "metadata": {},
     "output_type": "execute_result"
    }
   ],
   "source": [
    "response_live.text"
   ]
  },
  {
   "cell_type": "code",
   "execution_count": 418,
   "metadata": {
    "ExecuteTime": {
     "end_time": "2021-01-23T21:51:06.277145Z",
     "start_time": "2021-01-23T21:51:05.447560Z"
    }
   },
   "outputs": [
    {
     "name": "stdout",
     "output_type": "stream",
     "text": [
      "-----------\n",
      "Journey:  Madrid  --> Zurich\n",
      "Carrier: Air Europa\n",
      "Price: 35 EUR\n"
     ]
    }
   ],
   "source": [
    "url_browse = \"https://skyscanner-skyscanner-flight-search-v1.p.rapidapi.com/apiservices/browsequotes/v1.0/\"\n",
    "\n",
    "\n",
    "headers_browse = {\n",
    "    'x-rapidapi-host': \"skyscanner-skyscanner-flight-search-v1.p.rapidapi.com\",\n",
    "    'x-rapidapi-key': \"a25c140655mshcc3de02bc48e78fp1d8ae5jsn716b89dc608a\"\n",
    "    }\n",
    "\n",
    "myurl = url_browse + origin_country + \"/\" + currency + \"/\" + locale + \"/\"  + 'MAD-sky/ZRH-sky/2021-02-01'\n",
    "response = requests.request(\"GET\", myurl, headers=headers_browse)\n",
    "temp_browse = json.loads(response.text)\n",
    "\n",
    "if(\"Quotes\" in temp_browse):\n",
    "    for places in temp_browse[\"Places\"]:\n",
    "        airports[places[\"PlaceId\"]] = places[\"Name\"] \n",
    "\n",
    "    for carrier in temp_browse[\"Carriers\"]:\n",
    "        carriers[carrier[\"CarrierId\"]] = carrier[\"Name\"]\n",
    "\n",
    "    for quotes in temp_browse[\"Quotes\"]:\n",
    "        print(\"-----------\")\n",
    "        ori = quotes[\"OutboundLeg\"][\"OriginId\"]\n",
    "        dest = quotes[\"OutboundLeg\"][\"DestinationId\"]\n",
    "        carrier = quotes[\"OutboundLeg\"][\"CarrierIds\"]\n",
    "        price = quotes[\"MinPrice\"]\n",
    "\n",
    "        print(f\"Journey:  {airports[ori]}  --> {airports[dest]}\")\n",
    "        print(f\"Carrier: {carriers[carrier[0]]}\")\n",
    "        print(f\"Price: {price} EUR\")\n"
   ]
  },
  {
   "cell_type": "markdown",
   "metadata": {},
   "source": [
    "**EDIT: LIVE PRICES HAS BEEN REMOVED AS OF APR 2020**\n",
    "\n",
    "We're reaching out to inform you of a change in service for the Skyscanner Flight Search API on RapidAPI. Due to a change in strategy regarding Skyscanner's API, and to ensure that those using this service are doing so for the purpose helping travelers find and purchase flights, RapidAPI will no longer be offering the Live Search endpoint (generating life quotes of flight prices) as part of the Skyscanner API offering. Starting on April 1st, 2020 the Live Search endpoint will no longer be available to RapidAPI users. We strongly recommend you make the appropriate adjustments to transition all usage to the Browse endpoint in order to keep your application running properly. If you have a current travel booking application in production, are properly redirecting users to Skyscanner for booking, and need assistance in maintaining access to the Live endpoint;\n",
    "\n",
    "please complete the following form to provide us with more information -\n",
    "httpsJ/rapidapi.typeform.com/to/xcM3Gw\n",
    "We'll route your information to the Skyscanner team for review. It is important to note that any decision made regarding allowing some users to maintain access to the Live Search endpoint is fully at Skyscanner's discretion and beyond RapidAPI's ability to accommodate. Users are also free to apply to Skyscanner's affiliate program to access additional resources that can enable travel functionality. Thank you for your understanding and please do reach out with any questions/concerns.\n",
    "\n",
    "Thank you, The RapidAPI"
   ]
  },
  {
   "cell_type": "code",
   "execution_count": null,
   "metadata": {},
   "outputs": [],
   "source": []
  }
 ],
 "metadata": {
  "kernelspec": {
   "display_name": "Python 3",
   "language": "python",
   "name": "python3"
  },
  "language_info": {
   "codemirror_mode": {
    "name": "ipython",
    "version": 3
   },
   "file_extension": ".py",
   "mimetype": "text/x-python",
   "name": "python",
   "nbconvert_exporter": "python",
   "pygments_lexer": "ipython3",
   "version": "3.7.7"
  },
  "toc": {
   "base_numbering": 1,
   "nav_menu": {},
   "number_sections": true,
   "sideBar": true,
   "skip_h1_title": false,
   "title_cell": "Table of Contents",
   "title_sidebar": "Contents",
   "toc_cell": false,
   "toc_position": {},
   "toc_section_display": true,
   "toc_window_display": false
  },
  "varInspector": {
   "cols": {
    "lenName": 16,
    "lenType": 16,
    "lenVar": 40
   },
   "kernels_config": {
    "python": {
     "delete_cmd_postfix": "",
     "delete_cmd_prefix": "del ",
     "library": "var_list.py",
     "varRefreshCmd": "print(var_dic_list())"
    },
    "r": {
     "delete_cmd_postfix": ") ",
     "delete_cmd_prefix": "rm(",
     "library": "var_list.r",
     "varRefreshCmd": "cat(var_dic_list()) "
    }
   },
   "types_to_exclude": [
    "module",
    "function",
    "builtin_function_or_method",
    "instance",
    "_Feature"
   ],
   "window_display": false
  }
 },
 "nbformat": 4,
 "nbformat_minor": 4
}
